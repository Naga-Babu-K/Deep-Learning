{
 "cells": [
  {
   "cell_type": "code",
   "execution_count": 1,
   "id": "d89e2b1c-b4bb-448b-8ce1-7b8670b5bab7",
   "metadata": {},
   "outputs": [],
   "source": [
    "import cv2"
   ]
  },
  {
   "cell_type": "code",
   "execution_count": 2,
   "id": "883c7252-f611-45b8-b09f-9cff8dc7a768",
   "metadata": {},
   "outputs": [],
   "source": [
    "img = cv2.imread(r\"C:\\Users\\Erik\\Pictures\\KARUNA.jpg\")"
   ]
  },
  {
   "cell_type": "code",
   "execution_count": 4,
   "id": "86ca0dfe-6f8f-4d95-839b-65219292c479",
   "metadata": {},
   "outputs": [],
   "source": [
    "grimg = cv2.cvtColor(img,cv2.COLOR_BGR2GRAY)"
   ]
  },
  {
   "cell_type": "code",
   "execution_count": 6,
   "id": "796d72f9-a68f-48a6-8ad0-8f9a1298bbc9",
   "metadata": {},
   "outputs": [
    {
     "data": {
      "text/plain": [
       "(612, 433)"
      ]
     },
     "execution_count": 6,
     "metadata": {},
     "output_type": "execute_result"
    }
   ],
   "source": [
    "grimg.shape"
   ]
  },
  {
   "cell_type": "code",
   "execution_count": 2,
   "id": "63af6989-5f37-40ef-a5d2-95c8a9f2a142",
   "metadata": {},
   "outputs": [],
   "source": [
    "face = cv2.CascadeClassifier(r\"C:\\Users\\Erik\\Downloads\\haarcascade_frontalface_alt.xml\")"
   ]
  },
  {
   "cell_type": "code",
   "execution_count": 13,
   "id": "5579b3e8-49bb-466d-862f-35b33e70af2d",
   "metadata": {},
   "outputs": [],
   "source": [
    "arr1 =model.detectMultiScale2(img, minNeighbors = 1)"
   ]
  },
  {
   "cell_type": "code",
   "execution_count": 15,
   "id": "7ca033a7-9d05-432b-9fe5-7f34e8bc76c7",
   "metadata": {},
   "outputs": [
    {
     "data": {
      "text/plain": [
       "(array([[123, 140, 217, 217]]), array([42]))"
      ]
     },
     "execution_count": 15,
     "metadata": {},
     "output_type": "execute_result"
    }
   ],
   "source": [
    "arr1"
   ]
  },
  {
   "cell_type": "code",
   "execution_count": null,
   "id": "a33b7f01-fdb6-4f50-9480-27a2aeed9d4b",
   "metadata": {},
   "outputs": [],
   "source": []
  },
  {
   "cell_type": "code",
   "execution_count": 14,
   "id": "22dea08d-55de-44bd-b12a-7a738f0fd307",
   "metadata": {},
   "outputs": [
    {
     "ename": "ValueError",
     "evalue": "not enough values to unpack (expected 4, got 1)",
     "output_type": "error",
     "traceback": [
      "\u001b[1;31m---------------------------------------------------------------------------\u001b[0m",
      "\u001b[1;31mValueError\u001b[0m                                Traceback (most recent call last)",
      "Cell \u001b[1;32mIn[14], line 1\u001b[0m\n\u001b[1;32m----> 1\u001b[0m \u001b[38;5;28;01mfor\u001b[39;00m (x,y,w,h) \u001b[38;5;129;01min\u001b[39;00m arr1:\n\u001b[0;32m      2\u001b[0m     \u001b[38;5;28mprint\u001b[39m(x,y,w,h)\n\u001b[0;32m      3\u001b[0m     cv2\u001b[38;5;241m.\u001b[39mrectangle(img, (x, y), (x\u001b[38;5;241m+\u001b[39mw, y\u001b[38;5;241m+\u001b[39mh), (\u001b[38;5;241m255\u001b[39m,\u001b[38;5;241m0\u001b[39m, \u001b[38;5;241m0\u001b[39m), \u001b[38;5;241m1\u001b[39m)\n",
      "\u001b[1;31mValueError\u001b[0m: not enough values to unpack (expected 4, got 1)"
     ]
    }
   ],
   "source": [
    "for (x,y,w,h) in arr1:\n",
    "    print(x,y,w,h)\n",
    "    cv2.rectangle(img, (x, y), (x+w, y+h), (255,0, 0), 1)"
   ]
  },
  {
   "cell_type": "code",
   "execution_count": null,
   "id": "d57bc71f-96d2-4413-a357-27d038ba7f4e",
   "metadata": {},
   "outputs": [],
   "source": [
    "cv2.imshow(\"f\", img)\n",
    "cv2.Waitkey()\n",
    "cv2.destroyAllWindows()\n"
   ]
  },
  {
   "cell_type": "code",
   "execution_count": 4,
   "id": "774cdac2-6df8-4f9d-bc1f-73a530c1fdf6",
   "metadata": {},
   "outputs": [
    {
     "name": "stdout",
     "output_type": "stream",
     "text": [
      "251 261 210 210\n",
      "250 283 191 191\n",
      "242 295 182 182\n",
      "239 314 167 166\n",
      "243 302 174 174\n",
      "243 302 174 174\n",
      "181 240 211 211\n",
      "181 240 211 211\n",
      "144 250 215 215\n",
      "155 260 210 210\n",
      "164 263 203 203\n",
      "161 255 208 208\n",
      "161 255 208 208\n",
      "172 241 209 209\n",
      "172 241 209 209\n",
      "169 201 220 220\n",
      "170 137 226 226\n",
      "164 125 245 245\n",
      "171 137 226 226\n",
      "169 137 230 230\n",
      "179 139 229 229\n",
      "199 147 239 239\n",
      "224 161 226 226\n",
      "265 179 230 230\n",
      "293 192 230 230\n",
      "316 197 223 223\n",
      "301 191 227 227\n",
      "301 191 227 227\n",
      "244 176 223 223\n",
      "244 176 223 223\n",
      "176 187 221 221\n",
      "164 210 211 211\n",
      "166 201 206 206\n",
      "160 199 206 206\n",
      "140 202 216 216\n",
      "132 199 214 214\n",
      "128 198 224 224\n",
      "135 203 222 222\n",
      "133 200 216 216\n",
      "136 198 216 216\n",
      "137 197 215 215\n",
      "145 189 218 218\n",
      "159 188 214 214\n",
      "157 183 227 227\n",
      "149 185 220 220\n",
      "423 199 187 187\n",
      "155 186 215 215\n",
      "157 187 211 211\n",
      "152 178 220 220\n",
      "159 178 221 221\n",
      "156 168 230 230\n",
      "157 160 229 229\n",
      "157 160 229 229\n",
      "164 161 232 232\n",
      "163 158 239 239\n",
      "167 160 235 235\n",
      "167 160 235 235\n",
      "176 162 232 232\n",
      "174 162 237 237\n",
      "175 160 239 239\n",
      "465 187 159 159\n",
      "174 159 241 241\n",
      "450 177 170 170\n",
      "181 164 233 233\n",
      "450 179 172 172\n",
      "180 161 236 236\n",
      "453 185 170 170\n",
      "183 162 228 228\n",
      "181 157 232 232\n",
      "181 157 232 232\n",
      "180 160 233 233\n",
      "184 160 232 232\n",
      "184 160 232 232\n",
      "451 187 180 180\n",
      "183 161 234 234\n",
      "188 159 232 232\n",
      "188 158 235 235\n",
      "188 158 235 235\n",
      "188 160 230 230\n",
      "186 157 230 230\n",
      "466 169 169 169\n",
      "190 156 224 224\n",
      "187 156 229 229\n",
      "188 156 227 227\n",
      "465 176 160 160\n",
      "185 156 229 229\n",
      "192 165 226 226\n",
      "476 178 160 160\n",
      "200 141 228 228\n",
      "226 139 218 218\n",
      "174 173 107 107\n",
      "422 150 207 207\n",
      "190 209 246 246\n",
      "188 244 220 220\n",
      "215 251 218 218\n",
      "248 294 186 186\n",
      "248 294 186 186\n",
      "272 294 188 186\n",
      "272 294 188 186\n"
     ]
    }
   ],
   "source": [
    "vid=cv2.VideoCapture(0)\n",
    "\n",
    "while True:\n",
    "    suc, img = vid.read()\n",
    "    far1, far2 = face.detectMultiScale2(img)\n",
    "    for (x,y,w,h) in far1:\n",
    "        print(x,y,w,h)\n",
    "        cv2.rectangle(img, (x, y), (x+w, y+h), (255,0, 0), 1)\n",
    "    cv2.imshow(\"f\", img)\n",
    "\n",
    "    if cv2.waitKey(1) & 255==ord(\"q\"):\n",
    "        break\n",
    "\n",
    "cv2.destroyAllWindows()\n",
    "   "
   ]
  },
  {
   "cell_type": "code",
   "execution_count": null,
   "id": "b7a4fb53-420b-4012-a838-77c00b1cfc6a",
   "metadata": {},
   "outputs": [],
   "source": [
    "q"
   ]
  }
 ],
 "metadata": {
  "kernelspec": {
   "display_name": "Python 3 (ipykernel)",
   "language": "python",
   "name": "python3"
  },
  "language_info": {
   "codemirror_mode": {
    "name": "ipython",
    "version": 3
   },
   "file_extension": ".py",
   "mimetype": "text/x-python",
   "name": "python",
   "nbconvert_exporter": "python",
   "pygments_lexer": "ipython3",
   "version": "3.10.2"
  }
 },
 "nbformat": 4,
 "nbformat_minor": 5
}
