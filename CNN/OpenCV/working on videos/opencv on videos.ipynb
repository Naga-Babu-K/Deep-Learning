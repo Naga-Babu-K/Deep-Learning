{
 "cells": [
  {
   "cell_type": "markdown",
   "id": "88bc1c07-10fb-44f1-9fbc-9ff675c085b7",
   "metadata": {},
   "source": []
  },
  {
   "cell_type": "code",
   "execution_count": 1,
   "id": "814c801f-0f3d-49db-b829-5af1941161a3",
   "metadata": {},
   "outputs": [],
   "source": [
    "import cv2"
   ]
  },
  {
   "cell_type": "code",
   "execution_count": 2,
   "id": "406bea19-6ee7-43ec-94ff-316a5cc6ab96",
   "metadata": {},
   "outputs": [],
   "source": [
    "import numpy as np"
   ]
  },
  {
   "cell_type": "code",
   "execution_count": 3,
   "id": "eb91a120-acdf-4c86-ba0c-f7cff39384ef",
   "metadata": {},
   "outputs": [
    {
     "data": {
      "text/plain": [
       "97"
      ]
     },
     "execution_count": 3,
     "metadata": {},
     "output_type": "execute_result"
    }
   ],
   "source": [
    "ord(\"a\")"
   ]
  },
  {
   "cell_type": "code",
   "execution_count": 4,
   "id": "686824d7-2fc6-412d-93cb-2401b83e77fe",
   "metadata": {},
   "outputs": [],
   "source": [
    "vid = cv2.VideoCapture(r\"D:\\movies\\Charlie (2015) DVDRip - 1CD - x264 - AAC - Esub - Chaps - DrC Release.mkv\")"
   ]
  },
  {
   "cell_type": "code",
   "execution_count": 4,
   "id": "59ad5615-7ebc-47e1-a1fb-40375d226195",
   "metadata": {},
   "outputs": [],
   "source": [
    "vid = cv2.VideoCapture(r\"D:\\movies\\Charlie (2015) DVDRip - 1CD - x264 - AAC - Esub - Chaps - DrC Release.mkv\")\n",
    "while True:\n",
    "    su, img=vid.read()\n",
    "    if su==False:\n",
    "        break\n",
    "    cv2.imshow(\"Video\", img)\n",
    "    if cv2.waitKey(1) & 255 ==ord(\"c\"):\n",
    "        break\n",
    "cv2.destroyAllWindows()"
   ]
  },
  {
   "cell_type": "code",
   "execution_count": null,
   "id": "e915eac2-41c3-40a7-a54a-e305797bcc9b",
   "metadata": {},
   "outputs": [],
   "source": [
    "vid = cv2.VideoCapture(0)\n",
    "\n",
    "c = np.ones(shape=(300,300), dtype='uint8')*255\n",
    "d = np.zeros(shape=(300,300), dtype='uint8')\n",
    "count=0\n",
    "while True:\n",
    "    su, Img=vid.read()\n",
    "    if su == False:\n",
    "        break\n",
    "    b,g,r = cv2.split(Img)\n",
    "    d = np.zeros(b.shape, dtype='uint8')\n",
    "    cv2.imshow(\"video1\",cv2.merge([b,d,d]))\n",
    "    cv2.imshow(\"video2\",cv2.merge([d,g,d]))\n",
    "    cv2.imshow(\"vide03\",cv2.merge([d,d,r]))\n",
    "    #cv2.imshow(\"video\",Img)\n",
    "    cv2.imwrite(r\"C:\\Users\\Erik\\Documents\\Innomatics assignments\\innom practicing\\deep learning\\images\\Img{}.jpg\".format(count),Img)\n",
    "    count+=1\n",
    "\n",
    "    \n",
    "    if cv2.waitKey(1) & 255== ord(\"c\"):\n",
    "        break\n",
    "cv2.destroyAllWindows()"
   ]
  },
  {
   "cell_type": "code",
   "execution_count": null,
   "id": "90fb0f88-e8a7-4bf8-9f33-53d555f171c3",
   "metadata": {},
   "outputs": [],
   "source": []
  },
  {
   "cell_type": "code",
   "execution_count": 4,
   "id": "4d916123-62f3-434f-9ad5-d654ac0b92aa",
   "metadata": {},
   "outputs": [],
   "source": [
    "black = np.zeros((300, 300, 3), dtype=np.uint8)\n",
    "\n",
    "# Draw a rectangle on the black image\n",
    "cv2.rectangle(black, (50, 50), (150, 100), (0, 255, 0), -10)\n",
    "\n",
    "# Display the black image with the rectangle\n",
    "cv2.imshow(\"rectangle\", black)\n",
    "\n",
    "# Wait for any key press\n",
    "cv2.waitKey(0)\n",
    "\n",
    "# Close the OpenCV window\n",
    "cv2.destroyAllWindows()"
   ]
  },
  {
   "cell_type": "code",
   "execution_count": 4,
   "id": "cbe9705e-b4fa-4ae6-a64a-67d084cd71c2",
   "metadata": {},
   "outputs": [],
   "source": [
    "vid = cv2.VideoCapture(0)\n",
    "while True:\n",
    "    su, img=vid.read()\n",
    "    if su==False:\n",
    "        break\n",
    "    cv2.imshow(\"Video\", img)\n",
    "    if cv2.waitKey(1) & 255 ==ord(\"q\"):\n",
    "        break\n",
    "cv2.destroyAllWindows()"
   ]
  },
  {
   "cell_type": "code",
   "execution_count": 4,
   "id": "c2aec220-1c8a-4bfe-91da-2a3c415022d8",
   "metadata": {},
   "outputs": [],
   "source": [
    "black = np.zeros((200,200,3),dtype=np.uint8)\n",
    "cv2.namedWindow(\"pic\", cv2.WINDOW_FREERATIO)\n",
    "\n",
    "\n",
    "cv2.imshow(\"pic\", black)\n",
    "cv2.waitKey(0)\n",
    "cv2.destroyAllWindows()"
   ]
  },
  {
   "cell_type": "code",
   "execution_count": 4,
   "id": "78fec8e1-8139-4df1-9056-e0d9722e8aa3",
   "metadata": {},
   "outputs": [],
   "source": [
    "black = np.zeros((200,200,3),dtype=np.uint8)\n",
    "cv2.namedWindow(\"pic\", cv2.WINDOW_FREERATIO)\n",
    "\n",
    "cv2.line(black,(100,0), (100,200), (0,0,255),10)\n",
    "\n",
    "cv2.imshow(\"pic\", black)\n",
    "cv2.waitKey(0)\n",
    "cv2.destroyAllWindows()"
   ]
  },
  {
   "cell_type": "code",
   "execution_count": 5,
   "id": "2efb7d0c-04d3-4008-9894-85a9fc5de77a",
   "metadata": {},
   "outputs": [],
   "source": [
    "black = np.zeros((200,200,3),dtype=np.uint8)\n",
    "cv2.namedWindow(\"pic\", cv2.WINDOW_FREERATIO)\n",
    "\n",
    "cv2.rectangle(black,(100,100), (150,200),(0,0,255),10)\n",
    "\n",
    "cv2.imshow(\"pic\", black)\n",
    "cv2.waitKey(0)\n",
    "cv2.destroyAllWindows()"
   ]
  },
  {
   "cell_type": "code",
   "execution_count": 7,
   "id": "864ad77a-01eb-4de9-b0b5-244daf6bde29",
   "metadata": {},
   "outputs": [],
   "source": [
    "black = np.zeros((200,200,3),dtype=np.uint8)\n",
    "cv2.namedWindow(\"elipse\", cv2.WINDOW_FREERATIO)\n",
    "cv2.ellipse(black,(100,100),(20,10), 0,0,360,(0,255,0),-1)\n",
    "cv2.ellipse(black,(70,70),(20,10), 0,0,360,(0,255,0),1)\n",
    "cv2.imshow(\"elipse\", black)\n",
    "cv2.waitKey(0)\n",
    "cv2.destroyAllWindows()"
   ]
  },
  {
   "cell_type": "code",
   "execution_count": 9,
   "id": "5ae4f235-dbf3-44cf-96cf-07d71636edd9",
   "metadata": {},
   "outputs": [],
   "source": [
    "black = np.zeros((200,200,3),dtype=np.uint8)\n",
    "cv2.namedWindow(\"text\", cv2.WINDOW_FREERATIO)\n",
    "\n",
    "cv2.putText(black,\"welcom to opencv\", (10, 50), cv2.FONT_ITALIC, 0.5, (255,0,0), 1)\n",
    "\n",
    "cv2.imshow(\"text\", black)\n",
    "cv2.waitKey(0)\n",
    "cv2.destroyAllWindows()"
   ]
  },
  {
   "cell_type": "code",
   "execution_count": 4,
   "id": "1710e1a5-c6c4-45a1-b7d7-dd92963798ac",
   "metadata": {},
   "outputs": [
    {
     "name": "stdout",
     "output_type": "stream",
     "text": [
      "(480, 640, 3)\n",
      "(480, 640, 3)\n",
      "(480, 640, 3)\n",
      "(480, 640, 3)\n",
      "(480, 640, 3)\n",
      "(480, 640, 3)\n",
      "(480, 640, 3)\n",
      "(480, 640, 3)\n",
      "(480, 640, 3)\n",
      "(480, 640, 3)\n",
      "(480, 640, 3)\n",
      "(480, 640, 3)\n",
      "(480, 640, 3)\n",
      "(480, 640, 3)\n",
      "(480, 640, 3)\n",
      "(480, 640, 3)\n",
      "(480, 640, 3)\n",
      "(480, 640, 3)\n",
      "(480, 640, 3)\n",
      "(480, 640, 3)\n",
      "(480, 640, 3)\n",
      "(480, 640, 3)\n",
      "(480, 640, 3)\n",
      "(480, 640, 3)\n",
      "(480, 640, 3)\n",
      "(480, 640, 3)\n",
      "(480, 640, 3)\n",
      "(480, 640, 3)\n",
      "(480, 640, 3)\n",
      "(480, 640, 3)\n",
      "(480, 640, 3)\n",
      "(480, 640, 3)\n",
      "(480, 640, 3)\n",
      "(480, 640, 3)\n",
      "(480, 640, 3)\n",
      "(480, 640, 3)\n",
      "(480, 640, 3)\n",
      "(480, 640, 3)\n",
      "(480, 640, 3)\n",
      "(480, 640, 3)\n",
      "(480, 640, 3)\n",
      "(480, 640, 3)\n",
      "(480, 640, 3)\n",
      "(480, 640, 3)\n",
      "(480, 640, 3)\n",
      "(480, 640, 3)\n",
      "(480, 640, 3)\n",
      "(480, 640, 3)\n",
      "(480, 640, 3)\n",
      "(480, 640, 3)\n",
      "(480, 640, 3)\n",
      "(480, 640, 3)\n",
      "(480, 640, 3)\n",
      "(480, 640, 3)\n",
      "(480, 640, 3)\n",
      "(480, 640, 3)\n",
      "(480, 640, 3)\n",
      "(480, 640, 3)\n",
      "(480, 640, 3)\n",
      "(480, 640, 3)\n",
      "(480, 640, 3)\n",
      "(480, 640, 3)\n",
      "(480, 640, 3)\n",
      "(480, 640, 3)\n",
      "(480, 640, 3)\n",
      "(480, 640, 3)\n",
      "(480, 640, 3)\n",
      "(480, 640, 3)\n",
      "(480, 640, 3)\n",
      "(480, 640, 3)\n",
      "(480, 640, 3)\n",
      "(480, 640, 3)\n",
      "(480, 640, 3)\n",
      "(480, 640, 3)\n",
      "(480, 640, 3)\n",
      "(480, 640, 3)\n",
      "(480, 640, 3)\n",
      "(480, 640, 3)\n",
      "(480, 640, 3)\n",
      "(480, 640, 3)\n",
      "(480, 640, 3)\n",
      "(480, 640, 3)\n",
      "(480, 640, 3)\n",
      "(480, 640, 3)\n",
      "(480, 640, 3)\n",
      "(480, 640, 3)\n",
      "(480, 640, 3)\n",
      "(480, 640, 3)\n",
      "(480, 640, 3)\n",
      "(480, 640, 3)\n",
      "(480, 640, 3)\n",
      "(480, 640, 3)\n",
      "(480, 640, 3)\n",
      "(480, 640, 3)\n",
      "(480, 640, 3)\n",
      "(480, 640, 3)\n",
      "(480, 640, 3)\n",
      "(480, 640, 3)\n",
      "(480, 640, 3)\n",
      "(480, 640, 3)\n",
      "(480, 640, 3)\n",
      "(480, 640, 3)\n",
      "(480, 640, 3)\n",
      "(480, 640, 3)\n",
      "(480, 640, 3)\n",
      "(480, 640, 3)\n",
      "(480, 640, 3)\n",
      "(480, 640, 3)\n",
      "(480, 640, 3)\n",
      "(480, 640, 3)\n",
      "(480, 640, 3)\n",
      "(480, 640, 3)\n",
      "(480, 640, 3)\n",
      "(480, 640, 3)\n",
      "(480, 640, 3)\n",
      "(480, 640, 3)\n",
      "(480, 640, 3)\n",
      "(480, 640, 3)\n",
      "(480, 640, 3)\n",
      "(480, 640, 3)\n",
      "(480, 640, 3)\n",
      "(480, 640, 3)\n",
      "(480, 640, 3)\n",
      "(480, 640, 3)\n",
      "(480, 640, 3)\n",
      "(480, 640, 3)\n",
      "(480, 640, 3)\n",
      "(480, 640, 3)\n",
      "(480, 640, 3)\n",
      "(480, 640, 3)\n",
      "(480, 640, 3)\n",
      "(480, 640, 3)\n",
      "(480, 640, 3)\n",
      "(480, 640, 3)\n",
      "(480, 640, 3)\n",
      "(480, 640, 3)\n",
      "(480, 640, 3)\n",
      "(480, 640, 3)\n",
      "(480, 640, 3)\n",
      "(480, 640, 3)\n",
      "(480, 640, 3)\n",
      "(480, 640, 3)\n",
      "(480, 640, 3)\n",
      "(480, 640, 3)\n",
      "(480, 640, 3)\n",
      "(480, 640, 3)\n",
      "(480, 640, 3)\n",
      "(480, 640, 3)\n",
      "(480, 640, 3)\n",
      "(480, 640, 3)\n",
      "(480, 640, 3)\n",
      "(480, 640, 3)\n",
      "(480, 640, 3)\n",
      "(480, 640, 3)\n",
      "(480, 640, 3)\n",
      "(480, 640, 3)\n",
      "(480, 640, 3)\n",
      "(480, 640, 3)\n",
      "(480, 640, 3)\n",
      "(480, 640, 3)\n",
      "(480, 640, 3)\n",
      "(480, 640, 3)\n",
      "(480, 640, 3)\n",
      "(480, 640, 3)\n",
      "(480, 640, 3)\n",
      "(480, 640, 3)\n",
      "(480, 640, 3)\n",
      "(480, 640, 3)\n",
      "(480, 640, 3)\n",
      "(480, 640, 3)\n",
      "(480, 640, 3)\n",
      "(480, 640, 3)\n",
      "(480, 640, 3)\n",
      "(480, 640, 3)\n",
      "(480, 640, 3)\n",
      "(480, 640, 3)\n",
      "(480, 640, 3)\n",
      "(480, 640, 3)\n",
      "(480, 640, 3)\n",
      "(480, 640, 3)\n",
      "(480, 640, 3)\n",
      "(480, 640, 3)\n",
      "(480, 640, 3)\n",
      "(480, 640, 3)\n",
      "(480, 640, 3)\n",
      "(480, 640, 3)\n",
      "(480, 640, 3)\n",
      "(480, 640, 3)\n",
      "(480, 640, 3)\n",
      "(480, 640, 3)\n",
      "(480, 640, 3)\n",
      "(480, 640, 3)\n",
      "(480, 640, 3)\n",
      "(480, 640, 3)\n",
      "(480, 640, 3)\n",
      "(480, 640, 3)\n",
      "(480, 640, 3)\n",
      "(480, 640, 3)\n",
      "(480, 640, 3)\n",
      "(480, 640, 3)\n",
      "(480, 640, 3)\n",
      "(480, 640, 3)\n",
      "(480, 640, 3)\n",
      "(480, 640, 3)\n",
      "(480, 640, 3)\n",
      "(480, 640, 3)\n",
      "(480, 640, 3)\n",
      "(480, 640, 3)\n",
      "(480, 640, 3)\n",
      "(480, 640, 3)\n",
      "(480, 640, 3)\n",
      "(480, 640, 3)\n",
      "(480, 640, 3)\n",
      "(480, 640, 3)\n",
      "(480, 640, 3)\n",
      "(480, 640, 3)\n",
      "(480, 640, 3)\n",
      "(480, 640, 3)\n",
      "(480, 640, 3)\n",
      "(480, 640, 3)\n",
      "(480, 640, 3)\n",
      "(480, 640, 3)\n",
      "(480, 640, 3)\n",
      "(480, 640, 3)\n",
      "(480, 640, 3)\n",
      "(480, 640, 3)\n",
      "(480, 640, 3)\n",
      "(480, 640, 3)\n",
      "(480, 640, 3)\n",
      "(480, 640, 3)\n",
      "(480, 640, 3)\n",
      "(480, 640, 3)\n",
      "(480, 640, 3)\n",
      "(480, 640, 3)\n",
      "(480, 640, 3)\n",
      "(480, 640, 3)\n",
      "(480, 640, 3)\n",
      "(480, 640, 3)\n",
      "(480, 640, 3)\n",
      "(480, 640, 3)\n",
      "(480, 640, 3)\n",
      "(480, 640, 3)\n",
      "(480, 640, 3)\n",
      "(480, 640, 3)\n",
      "(480, 640, 3)\n",
      "(480, 640, 3)\n",
      "(480, 640, 3)\n",
      "(480, 640, 3)\n",
      "(480, 640, 3)\n",
      "(480, 640, 3)\n",
      "(480, 640, 3)\n",
      "(480, 640, 3)\n",
      "(480, 640, 3)\n",
      "(480, 640, 3)\n",
      "(480, 640, 3)\n",
      "(480, 640, 3)\n",
      "(480, 640, 3)\n",
      "(480, 640, 3)\n",
      "(480, 640, 3)\n",
      "(480, 640, 3)\n",
      "(480, 640, 3)\n",
      "(480, 640, 3)\n",
      "(480, 640, 3)\n",
      "(480, 640, 3)\n",
      "(480, 640, 3)\n",
      "(480, 640, 3)\n",
      "(480, 640, 3)\n",
      "(480, 640, 3)\n",
      "(480, 640, 3)\n",
      "(480, 640, 3)\n",
      "(480, 640, 3)\n",
      "(480, 640, 3)\n",
      "(480, 640, 3)\n",
      "(480, 640, 3)\n",
      "(480, 640, 3)\n",
      "(480, 640, 3)\n",
      "(480, 640, 3)\n",
      "(480, 640, 3)\n",
      "(480, 640, 3)\n",
      "(480, 640, 3)\n",
      "(480, 640, 3)\n",
      "(480, 640, 3)\n",
      "(480, 640, 3)\n",
      "(480, 640, 3)\n",
      "(480, 640, 3)\n",
      "(480, 640, 3)\n",
      "(480, 640, 3)\n",
      "(480, 640, 3)\n",
      "(480, 640, 3)\n",
      "(480, 640, 3)\n",
      "(480, 640, 3)\n",
      "(480, 640, 3)\n",
      "(480, 640, 3)\n",
      "(480, 640, 3)\n",
      "(480, 640, 3)\n",
      "(480, 640, 3)\n",
      "(480, 640, 3)\n",
      "(480, 640, 3)\n",
      "(480, 640, 3)\n",
      "(480, 640, 3)\n",
      "(480, 640, 3)\n",
      "(480, 640, 3)\n",
      "(480, 640, 3)\n",
      "(480, 640, 3)\n",
      "(480, 640, 3)\n",
      "(480, 640, 3)\n",
      "(480, 640, 3)\n",
      "(480, 640, 3)\n",
      "(480, 640, 3)\n",
      "(480, 640, 3)\n",
      "(480, 640, 3)\n",
      "(480, 640, 3)\n",
      "(480, 640, 3)\n",
      "(480, 640, 3)\n",
      "(480, 640, 3)\n",
      "(480, 640, 3)\n",
      "(480, 640, 3)\n",
      "(480, 640, 3)\n",
      "(480, 640, 3)\n",
      "(480, 640, 3)\n",
      "(480, 640, 3)\n",
      "(480, 640, 3)\n",
      "(480, 640, 3)\n",
      "(480, 640, 3)\n",
      "(480, 640, 3)\n",
      "(480, 640, 3)\n",
      "(480, 640, 3)\n",
      "(480, 640, 3)\n",
      "(480, 640, 3)\n",
      "(480, 640, 3)\n",
      "(480, 640, 3)\n",
      "(480, 640, 3)\n",
      "(480, 640, 3)\n",
      "(480, 640, 3)\n",
      "(480, 640, 3)\n",
      "(480, 640, 3)\n",
      "(480, 640, 3)\n",
      "(480, 640, 3)\n",
      "(480, 640, 3)\n",
      "(480, 640, 3)\n",
      "(480, 640, 3)\n",
      "(480, 640, 3)\n",
      "(480, 640, 3)\n",
      "(480, 640, 3)\n",
      "(480, 640, 3)\n",
      "(480, 640, 3)\n",
      "(480, 640, 3)\n",
      "(480, 640, 3)\n",
      "(480, 640, 3)\n",
      "(480, 640, 3)\n",
      "(480, 640, 3)\n",
      "(480, 640, 3)\n",
      "(480, 640, 3)\n",
      "(480, 640, 3)\n",
      "(480, 640, 3)\n",
      "(480, 640, 3)\n",
      "(480, 640, 3)\n",
      "(480, 640, 3)\n",
      "(480, 640, 3)\n",
      "(480, 640, 3)\n",
      "(480, 640, 3)\n",
      "(480, 640, 3)\n",
      "(480, 640, 3)\n",
      "(480, 640, 3)\n",
      "(480, 640, 3)\n",
      "(480, 640, 3)\n",
      "(480, 640, 3)\n",
      "(480, 640, 3)\n",
      "(480, 640, 3)\n",
      "(480, 640, 3)\n",
      "(480, 640, 3)\n",
      "(480, 640, 3)\n",
      "(480, 640, 3)\n",
      "(480, 640, 3)\n",
      "(480, 640, 3)\n",
      "(480, 640, 3)\n",
      "(480, 640, 3)\n",
      "(480, 640, 3)\n",
      "(480, 640, 3)\n",
      "(480, 640, 3)\n",
      "(480, 640, 3)\n",
      "(480, 640, 3)\n",
      "(480, 640, 3)\n",
      "(480, 640, 3)\n",
      "(480, 640, 3)\n",
      "(480, 640, 3)\n",
      "(480, 640, 3)\n",
      "(480, 640, 3)\n",
      "(480, 640, 3)\n",
      "(480, 640, 3)\n",
      "(480, 640, 3)\n",
      "(480, 640, 3)\n",
      "(480, 640, 3)\n",
      "(480, 640, 3)\n",
      "(480, 640, 3)\n",
      "(480, 640, 3)\n",
      "(480, 640, 3)\n",
      "(480, 640, 3)\n",
      "(480, 640, 3)\n",
      "(480, 640, 3)\n",
      "(480, 640, 3)\n",
      "(480, 640, 3)\n",
      "(480, 640, 3)\n",
      "(480, 640, 3)\n",
      "(480, 640, 3)\n",
      "(480, 640, 3)\n",
      "(480, 640, 3)\n",
      "(480, 640, 3)\n",
      "(480, 640, 3)\n",
      "(480, 640, 3)\n",
      "(480, 640, 3)\n",
      "(480, 640, 3)\n",
      "(480, 640, 3)\n",
      "(480, 640, 3)\n",
      "(480, 640, 3)\n",
      "(480, 640, 3)\n",
      "(480, 640, 3)\n",
      "(480, 640, 3)\n",
      "(480, 640, 3)\n",
      "(480, 640, 3)\n",
      "(480, 640, 3)\n",
      "(480, 640, 3)\n",
      "(480, 640, 3)\n",
      "(480, 640, 3)\n",
      "(480, 640, 3)\n",
      "(480, 640, 3)\n",
      "(480, 640, 3)\n",
      "(480, 640, 3)\n",
      "(480, 640, 3)\n",
      "(480, 640, 3)\n",
      "(480, 640, 3)\n",
      "(480, 640, 3)\n",
      "(480, 640, 3)\n",
      "(480, 640, 3)\n",
      "(480, 640, 3)\n",
      "(480, 640, 3)\n",
      "(480, 640, 3)\n",
      "(480, 640, 3)\n",
      "(480, 640, 3)\n",
      "(480, 640, 3)\n",
      "(480, 640, 3)\n",
      "(480, 640, 3)\n",
      "(480, 640, 3)\n",
      "(480, 640, 3)\n",
      "(480, 640, 3)\n",
      "(480, 640, 3)\n",
      "(480, 640, 3)\n",
      "(480, 640, 3)\n",
      "(480, 640, 3)\n",
      "(480, 640, 3)\n",
      "(480, 640, 3)\n",
      "(480, 640, 3)\n",
      "(480, 640, 3)\n",
      "(480, 640, 3)\n",
      "(480, 640, 3)\n",
      "(480, 640, 3)\n",
      "(480, 640, 3)\n",
      "(480, 640, 3)\n",
      "(480, 640, 3)\n",
      "(480, 640, 3)\n",
      "(480, 640, 3)\n",
      "(480, 640, 3)\n",
      "(480, 640, 3)\n",
      "(480, 640, 3)\n",
      "(480, 640, 3)\n",
      "(480, 640, 3)\n",
      "(480, 640, 3)\n",
      "(480, 640, 3)\n",
      "(480, 640, 3)\n",
      "(480, 640, 3)\n",
      "(480, 640, 3)\n",
      "(480, 640, 3)\n",
      "(480, 640, 3)\n",
      "(480, 640, 3)\n",
      "(480, 640, 3)\n"
     ]
    }
   ],
   "source": [
    "vid = cv2.VideoCapture(0)\n",
    "\n",
    "count=0\n",
    "while True:\n",
    "    suc, img=vid.read()\n",
    "    print(img.shape)\n",
    "    cv2.rectangle(img, (50,50), (350,400),(0,255,0), 1)\n",
    "    cv2.putText(img,\"Naga\",(50,50), cv2.FONT_ITALIC,1,(0,0,255),1)\n",
    "    cv2.imshow(\"Naga\", img)\n",
    "    cv2.imwrite(r\"C:\\Users\\Erik\\Documents\\Innomatics assignments\\innom practicing\\deep learning\\images\\Img{}.jpg\".format(count),img)\n",
    "    count+=1\n",
    "    \n",
    "    if cv2.waitKey(1) & 255 ==ord(\"q\"):\n",
    "        break\n",
    "        \n",
    "cv2.destroyAllWindows()"
   ]
  },
  {
   "cell_type": "code",
   "execution_count": 4,
   "id": "b019ac9b-d0de-4512-987e-632feed3eca7",
   "metadata": {},
   "outputs": [],
   "source": [
    "import cv2\n",
    "import numpy as np\n",
    "\n",
    "# Create a black image\n",
    "img = np.zeros((300, 300, 3), dtype=np.uint8)\n",
    "\n",
    "cv2.namedWindow(\"b\",cv2.WINDOW_FREERATIO)\n",
    "# Draw the ellipse on the image\n",
    "cv2.putText(img,\"Welcome to Opeancv\",(10,100),cv2.FONT_ITALIC,0.5,(0,0,255),1)\n",
    "\n",
    "# Display the image with the ellipse\n",
    "cv2.imshow(\"r\",img)\n",
    "\n",
    "# Wait for any key press\n",
    "cv2.waitKey(0)\n",
    "\n",
    "# Close the OpenCV window\n",
    "cv2.destroyAllWindows()"
   ]
  },
  {
   "cell_type": "code",
   "execution_count": null,
   "id": "27165722-f50b-4f7d-bbdb-240949f80cec",
   "metadata": {},
   "outputs": [],
   "source": [
    "vid = cv2.VideoCapture(0)\n",
    "\n",
    "c = np.ones(shape=(300,300), dtype='uint8')*255\n",
    "d = np.zeros(shape=(300,300), dtype='uint8')\n",
    "count=0\n",
    "while True:\n",
    "    su, Img=vid.read()\n",
    "    if su == False:\n",
    "        break\n",
    "    b,g,r = cv2.split(Img)\n",
    "    d = np.zeros(b.shape, dtype='uint8')\n",
    "    cv2.imshow(\"video1\",cv2.merge([b,d,d]))\n",
    "    cv2.imshow(\"video2\",cv2.merge([d,g,d]))\n",
    "    cv2.imshow(\"vide03\",cv2.merge([d,d,r]))\n",
    "    #cv2.imshow(\"video\",Img)\n",
    "    cv2.imwrite(r\"C:\\Users\\Erik\\Documents\\Innomatics assignments\\innom practicing\\deep learning\\images\\Img{}.jpg\".format(count),Img)\n",
    "    count+=1\n",
    "\n",
    "    \n",
    "    if cv2.waitKey(1) & 255== ord(\"c\"):\n",
    "        break\n",
    "cv2.destroyAllWindows()"
   ]
  },
  {
   "cell_type": "code",
   "execution_count": 4,
   "id": "e9189668-4dbb-4932-895b-f1d2d16824cc",
   "metadata": {},
   "outputs": [
    {
     "ename": "NameError",
     "evalue": "name 'img' is not defined",
     "output_type": "error",
     "traceback": [
      "\u001b[1;31m---------------------------------------------------------------------------\u001b[0m",
      "\u001b[1;31mNameError\u001b[0m                                 Traceback (most recent call last)",
      "Cell \u001b[1;32mIn[4], line 5\u001b[0m\n\u001b[0;32m      3\u001b[0m \u001b[38;5;28;01mwhile\u001b[39;00m \u001b[38;5;28;01mTrue\u001b[39;00m:\n\u001b[0;32m      4\u001b[0m     su, Img\u001b[38;5;241m=\u001b[39mvid\u001b[38;5;241m.\u001b[39mread()\n\u001b[1;32m----> 5\u001b[0m     cv2\u001b[38;5;241m.\u001b[39mputText(\u001b[43mimg\u001b[49m,\u001b[38;5;124m\"\u001b[39m\u001b[38;5;124mnaga\u001b[39m\u001b[38;5;124m\"\u001b[39m,(\u001b[38;5;241m10\u001b[39m,\u001b[38;5;241m100\u001b[39m),cv2\u001b[38;5;241m.\u001b[39mFONT_ITALIC,\u001b[38;5;241m0.5\u001b[39m,(\u001b[38;5;241m0\u001b[39m,\u001b[38;5;241m0\u001b[39m,\u001b[38;5;241m255\u001b[39m),\u001b[38;5;241m1\u001b[39m)\n\u001b[0;32m      6\u001b[0m     cv2\u001b[38;5;241m.\u001b[39mrectangle(black, (\u001b[38;5;241m50\u001b[39m, \u001b[38;5;241m50\u001b[39m), (\u001b[38;5;241m150\u001b[39m, \u001b[38;5;241m100\u001b[39m), (\u001b[38;5;241m0\u001b[39m, \u001b[38;5;241m255\u001b[39m, \u001b[38;5;241m0\u001b[39m), \u001b[38;5;241m1\u001b[39m)\n\u001b[0;32m      7\u001b[0m     cv2\u001b[38;5;241m.\u001b[39mimwrite(\u001b[38;5;124mr\u001b[39m\u001b[38;5;124m\"\u001b[39m\u001b[38;5;124mC:\u001b[39m\u001b[38;5;124m\\\u001b[39m\u001b[38;5;124mUsers\u001b[39m\u001b[38;5;124m\\\u001b[39m\u001b[38;5;124mErik\u001b[39m\u001b[38;5;124m\\\u001b[39m\u001b[38;5;124mDocuments\u001b[39m\u001b[38;5;124m\\\u001b[39m\u001b[38;5;124mInnomatics assignments\u001b[39m\u001b[38;5;124m\\\u001b[39m\u001b[38;5;124minnom practicing\u001b[39m\u001b[38;5;124m\\\u001b[39m\u001b[38;5;124mdeep learning\u001b[39m\u001b[38;5;124m\\\u001b[39m\u001b[38;5;124mimages\u001b[39m\u001b[38;5;124m\\\u001b[39m\u001b[38;5;124mImg\u001b[39m\u001b[38;5;132;01m{}\u001b[39;00m\u001b[38;5;124m.jpg\u001b[39m\u001b[38;5;124m\"\u001b[39m\u001b[38;5;241m.\u001b[39mformat(count),Img)\n",
      "\u001b[1;31mNameError\u001b[0m: name 'img' is not defined"
     ]
    }
   ],
   "source": [
    "vid = cv2.VideoCapture(0)\n",
    "count=0\n",
    "while True:\n",
    "    su, Img=vid.read()\n",
    "    cv2.putText(Img,\"naga\",(10,100),cv2.FONT_ITALIC,0.5,(0,0,255),1)\n",
    "    cv2.rectangle(black, (50, 50), (150, 100), (0, 255, 0), 1)\n",
    "    cv2.imwrite(r\"C:\\Users\\Erik\\Documents\\Innomatics assignments\\innom practicing\\deep learning\\images\\Img{}.jpg\".format(count),Img)\n",
    "    count+=1\n",
    "\n",
    "    \n",
    "    if cv2.waitKey(1) & 255== ord(\"q\"):\n",
    "        break\n",
    "cv2.destroyAllWindows()"
   ]
  },
  {
   "cell_type": "code",
   "execution_count": null,
   "id": "7dac8c57-b9ed-4788-b6ff-43add1391473",
   "metadata": {},
   "outputs": [],
   "source": [
    "for (x, y, w, h) in faces:\n",
    "        cv2.rectangle(frame, (x, y), (x+w, y+h), (0, 255, 0), 2)"
   ]
  },
  {
   "cell_type": "code",
   "execution_count": 11,
   "id": "37b25e59-4a8e-4fd8-88a0-7458e54768cd",
   "metadata": {},
   "outputs": [],
   "source": [
    "vid = cv2.VideoCapture(0)\n",
    "face_cascade = cv2.CascadeClassifier(cv2.data.haarcascades + 'haarcascade_frontalface_default.xml')\n",
    "while True:\n",
    "    suc, img=vid.read()\n",
    "    if not suc :\n",
    "        break\n",
    "    \n",
    "    cv2.putText(img,\"Naga\",(50,50), cv2.FONT_ITALIC,1,(0,0,255),1)\n",
    "    gray = cv2.cvtColor(img, cv2.COLOR_BGR2GRAY)\n",
    "    faces = face_cascade.detectMultiScale(gray, scaleFactor=1.1, minNeighbors=5, minSize=(30, 30))\n",
    "    for (x, y, w, h) in faces:\n",
    "        cv2.rectangle(img, (x, y), (x+w, y+h), (0, 255, 0), 2)\n",
    "\n",
    "    cv2.imshow(\"image\", img)\n",
    "    #cv2.imwrite(r\"C:\\Users\\Erik\\Documents\\Innomatics assignments\\innom practicing\\deep learning\\images\\Img{}.jpg\".format(count),img)\n",
    "    #count+=1\n",
    "    \n",
    "    if cv2.waitKey(1) & 255 ==ord(\"q\"):\n",
    "        break\n",
    "        \n",
    "cv2.destroyAllWindows()"
   ]
  },
  {
   "cell_type": "markdown",
   "id": "336e3f70-4305-46c8-a580-9522ce780d80",
   "metadata": {},
   "source": [
    "## 19/03/2024"
   ]
  },
  {
   "cell_type": "code",
   "execution_count": 24,
   "id": "0e46d271-b7af-495e-93b1-0e822649a77c",
   "metadata": {},
   "outputs": [],
   "source": [
    "Tx = 0\n",
    "Ty = 0\n",
    "t = np.array([[1,0,100],[0,1,50]],dtype= np.float32)"
   ]
  },
  {
   "cell_type": "code",
   "execution_count": 25,
   "id": "c4d6e7f1-25e5-4299-a220-281811c7653d",
   "metadata": {},
   "outputs": [
    {
     "data": {
      "text/plain": [
       "array([[  1.,   0., 100.],\n",
       "       [  0.,   1.,  50.]], dtype=float32)"
      ]
     },
     "execution_count": 25,
     "metadata": {},
     "output_type": "execute_result"
    }
   ],
   "source": [
    "t"
   ]
  },
  {
   "cell_type": "code",
   "execution_count": 39,
   "id": "e166892f-e8bd-483b-9081-27de3d66ee8c",
   "metadata": {},
   "outputs": [],
   "source": [
    "img = cv2.imread(r\"C:\\Users\\Erik\\Pictures\\edit_pic_1.jpg\")"
   ]
  },
  {
   "cell_type": "code",
   "execution_count": 10,
   "id": "e693edd6-d907-469b-bff7-2b0b9275146b",
   "metadata": {},
   "outputs": [
    {
     "data": {
      "text/plain": [
       "(1080, 1080, 3)"
      ]
     },
     "execution_count": 10,
     "metadata": {},
     "output_type": "execute_result"
    }
   ],
   "source": [
    "img.shape"
   ]
  },
  {
   "cell_type": "code",
   "execution_count": 26,
   "id": "546ee48d-b8a5-4761-85f9-5503e759f080",
   "metadata": {},
   "outputs": [],
   "source": [
    "t_img =cv2.warpAffine(img, t, (1080, 1080,))"
   ]
  },
  {
   "cell_type": "code",
   "execution_count": 44,
   "id": "9fb20188-9107-4875-9337-3ea573f93e52",
   "metadata": {},
   "outputs": [],
   "source": [
    "cv2.namedWindow(\"tr\",cv2.WINDOW_FREERATIO)\n",
    "\n",
    "cv2.imshow(\"tr\",t_img)\n",
    "\n",
    "cv2.waitKey(0)\n",
    "cv2.destroyAllWindows()"
   ]
  },
  {
   "cell_type": "code",
   "execution_count": 17,
   "id": "6c15c809-590f-4267-a55f-612cdcc37d19",
   "metadata": {},
   "outputs": [
    {
     "data": {
      "text/plain": [
       "540.0"
      ]
     },
     "execution_count": 17,
     "metadata": {},
     "output_type": "execute_result"
    }
   ],
   "source": [
    "1080/2"
   ]
  },
  {
   "cell_type": "code",
   "execution_count": 40,
   "id": "67eb116d-d86b-404a-a536-f3ac809a6075",
   "metadata": {},
   "outputs": [],
   "source": [
    "ro_mat = cv2.getRotationMatrix2D((1080/2,1080/2), 180,1)"
   ]
  },
  {
   "cell_type": "code",
   "execution_count": 41,
   "id": "ffe088c8-ac2b-465c-a8ef-57aa0b3b2b76",
   "metadata": {},
   "outputs": [],
   "source": [
    "ro_img  =cv2.warpAffine(img, ro_mat, (1080, 1080,))"
   ]
  },
  {
   "cell_type": "code",
   "execution_count": 5,
   "id": "47a2d043-06f6-487e-b96e-c79e0aad354e",
   "metadata": {},
   "outputs": [
    {
     "ename": "NameError",
     "evalue": "name 'ro_img' is not defined",
     "output_type": "error",
     "traceback": [
      "\u001b[1;31m---------------------------------------------------------------------------\u001b[0m",
      "\u001b[1;31mNameError\u001b[0m                                 Traceback (most recent call last)",
      "Cell \u001b[1;32mIn[5], line 3\u001b[0m\n\u001b[0;32m      1\u001b[0m cv2\u001b[38;5;241m.\u001b[39mnamedWindow(\u001b[38;5;124m\"\u001b[39m\u001b[38;5;124mro\u001b[39m\u001b[38;5;124m\"\u001b[39m,cv2\u001b[38;5;241m.\u001b[39mWINDOW_FREERATIO)\n\u001b[1;32m----> 3\u001b[0m cv2\u001b[38;5;241m.\u001b[39mimshow(\u001b[38;5;124m\"\u001b[39m\u001b[38;5;124mro\u001b[39m\u001b[38;5;124m\"\u001b[39m,\u001b[43mro_img\u001b[49m)\n\u001b[0;32m      4\u001b[0m cv2\u001b[38;5;241m.\u001b[39mwaitKey(\u001b[38;5;241m0\u001b[39m)\n\u001b[0;32m      5\u001b[0m cv2\u001b[38;5;241m.\u001b[39mdestroyAllWindows()\n",
      "\u001b[1;31mNameError\u001b[0m: name 'ro_img' is not defined"
     ]
    }
   ],
   "source": [
    "cv2.namedWindow(\"ro\",cv2.WINDOW_FREERATIO)\n",
    "\n",
    "cv2.imshow(\"ro\",ro_img)\n",
    "cv2.waitKey(0)\n",
    "cv2.destroyAllWindows()"
   ]
  },
  {
   "cell_type": "code",
   "execution_count": 54,
   "id": "b68b4e10-9b5b-46e5-ba1f-3e8d6549fd58",
   "metadata": {},
   "outputs": [
    {
     "data": {
      "text/plain": [
       "(216, 216, 3)"
      ]
     },
     "execution_count": 54,
     "metadata": {},
     "output_type": "execute_result"
    }
   ],
   "source": [
    "cv2.resize(img, None,fx=0.2,fy=0.2).shape"
   ]
  },
  {
   "cell_type": "code",
   "execution_count": 56,
   "id": "d74b9744-1a57-41ac-af8e-d0230a893a53",
   "metadata": {},
   "outputs": [],
   "source": [
    "cv2.imshow(\"o\", cv2.resize(img, None,fx=0.2,fy=0.2))\n",
    "\n",
    "\n",
    "cv2.waitKey(0)\n",
    "cv2.destroyAllWindows()"
   ]
  },
  {
   "cell_type": "code",
   "execution_count": 60,
   "id": "42d4abd5-c6bc-4cdb-854e-650782eb930d",
   "metadata": {},
   "outputs": [],
   "source": [
    "up = cv2.pyrUp(img)"
   ]
  },
  {
   "cell_type": "code",
   "execution_count": 62,
   "id": "9e16e663-f351-4e08-b3ff-bd332791df1a",
   "metadata": {},
   "outputs": [
    {
     "data": {
      "text/plain": [
       "(2160, 2160, 3)"
      ]
     },
     "execution_count": 62,
     "metadata": {},
     "output_type": "execute_result"
    }
   ],
   "source": [
    "cv2.pyrUp(img).shape"
   ]
  },
  {
   "cell_type": "code",
   "execution_count": 63,
   "id": "e18829f3-9967-4c76-9037-b9f8aa812596",
   "metadata": {},
   "outputs": [
    {
     "data": {
      "text/plain": [
       "(540, 540, 3)"
      ]
     },
     "execution_count": 63,
     "metadata": {},
     "output_type": "execute_result"
    }
   ],
   "source": [
    "cv2.pyrDown(img).shape"
   ]
  },
  {
   "cell_type": "code",
   "execution_count": 64,
   "id": "2c175849-4264-4496-89f7-decb6902e176",
   "metadata": {},
   "outputs": [],
   "source": [
    "cv2.imshow(\"o\", cv2.resize(up, None,fx=0.2,fy=0.2))\n",
    "\n",
    "\n",
    "cv2.waitKey(0)\n",
    "cv2.destroyAllWindows()"
   ]
  },
  {
   "cell_type": "code",
   "execution_count": null,
   "id": "da58e9c5-6392-45e4-bfcf-76fb9bd77221",
   "metadata": {},
   "outputs": [],
   "source": [
    "cv2.pyrDown()\n",
    "cv2.pyrUp()"
   ]
  },
  {
   "cell_type": "markdown",
   "id": "eba936a5-48d8-4051-850c-2bca847af6d6",
   "metadata": {},
   "source": [
    "## 21/03/2024"
   ]
  },
  {
   "cell_type": "code",
   "execution_count": 1,
   "id": "f1ebcab0-d6cf-4d17-a434-b910b4bdd1bc",
   "metadata": {},
   "outputs": [],
   "source": [
    "import cv2\n",
    "import numpy as np"
   ]
  },
  {
   "cell_type": "code",
   "execution_count": 2,
   "id": "9e4faae4-5845-4a8e-bc85-7289b50c652d",
   "metadata": {},
   "outputs": [],
   "source": [
    "img = cv2.imread(r\"C:\\Users\\Erik\\Pictures\\new_pic.jpg\")"
   ]
  },
  {
   "cell_type": "code",
   "execution_count": 3,
   "id": "fa80d8b4-db02-42c4-a32a-0d8b7d74c692",
   "metadata": {},
   "outputs": [],
   "source": [
    "c_i = img[35:174, 33:143]"
   ]
  },
  {
   "cell_type": "code",
   "execution_count": 4,
   "id": "00f2b793-0968-4d03-9c70-8b656b14545e",
   "metadata": {},
   "outputs": [],
   "source": [
    "cv2.imshow(\"oi\", img)\n",
    "cv2.imshow(\"ci\",c_i)\n",
    "cv2.waitKey(0)\n",
    "cv2.destroyAllWindows()"
   ]
  },
  {
   "cell_type": "code",
   "execution_count": 6,
   "id": "4f8cccfd-bc5e-4612-9395-482a95346ebd",
   "metadata": {},
   "outputs": [],
   "source": [
    "cv2.imshow(\"oi\", img)\n",
    "cv2.imshow(\"higer intensity\", cv2.add(img,np.full(img.shape,100, dtype=np.uint8)))\n",
    "cv2.imshow(\"lower intensity\", cv2.subtract(img,np.full(img.shape,100, dtype=np.uint8)))\n",
    "cv2.waitKey(0)\n",
    "cv2.destroyAllWindows()"
   ]
  },
  {
   "cell_type": "code",
   "execution_count": 8,
   "id": "d5268a23-6b80-4282-bbc0-5d833966d006",
   "metadata": {},
   "outputs": [
    {
     "data": {
      "text/plain": [
       "array([[[149, 178, 209],\n",
       "        [149, 178, 209],\n",
       "        [149, 178, 209],\n",
       "        ...,\n",
       "        [102, 102, 102],\n",
       "        [109, 103, 108],\n",
       "        [112, 106, 111]],\n",
       "\n",
       "       [[149, 178, 209],\n",
       "        [149, 178, 209],\n",
       "        [149, 178, 209],\n",
       "        ...,\n",
       "        [100, 100, 104],\n",
       "        [100, 100, 106],\n",
       "        [103, 101, 107]],\n",
       "\n",
       "       [[150, 178, 209],\n",
       "        [150, 178, 209],\n",
       "        [150, 178, 209],\n",
       "        ...,\n",
       "        [192, 201, 210],\n",
       "        [191, 197, 208],\n",
       "        [190, 196, 207]],\n",
       "\n",
       "       ...,\n",
       "\n",
       "       [[116, 142, 136],\n",
       "        [116, 142, 136],\n",
       "        [116, 142, 136],\n",
       "        ...,\n",
       "        [101, 102, 100],\n",
       "        [101, 102, 100],\n",
       "        [101, 102, 100]],\n",
       "\n",
       "       [[116, 142, 136],\n",
       "        [116, 142, 136],\n",
       "        [116, 142, 136],\n",
       "        ...,\n",
       "        [101, 102, 100],\n",
       "        [101, 102, 100],\n",
       "        [101, 102, 100]],\n",
       "\n",
       "       [[116, 142, 136],\n",
       "        [116, 142, 136],\n",
       "        [116, 142, 136],\n",
       "        ...,\n",
       "        [101, 102, 100],\n",
       "        [101, 102, 100],\n",
       "        [101, 102, 100]]], dtype=uint8)"
      ]
     },
     "execution_count": 8,
     "metadata": {},
     "output_type": "execute_result"
    }
   ],
   "source": [
    "\n",
    "cv2.add(img,np.full(img.shape,100, dtype=np.uint8))"
   ]
  },
  {
   "cell_type": "code",
   "execution_count": 3,
   "id": "86910382-b30c-4d66-9c34-cbc07e78aaab",
   "metadata": {},
   "outputs": [],
   "source": [
    "b_i = np.zeros((500,500), np.uint8)"
   ]
  },
  {
   "cell_type": "code",
   "execution_count": 4,
   "id": "71546c02-31a6-416f-9e22-77dbce6d25ec",
   "metadata": {},
   "outputs": [
    {
     "data": {
      "text/plain": [
       "array([[0, 0, 0, ..., 0, 0, 0],\n",
       "       [0, 0, 0, ..., 0, 0, 0],\n",
       "       [0, 0, 0, ..., 0, 0, 0],\n",
       "       ...,\n",
       "       [0, 0, 0, ..., 0, 0, 0],\n",
       "       [0, 0, 0, ..., 0, 0, 0],\n",
       "       [0, 0, 0, ..., 0, 0, 0]], dtype=uint8)"
      ]
     },
     "execution_count": 4,
     "metadata": {},
     "output_type": "execute_result"
    }
   ],
   "source": [
    "cv2.rectangle(b_i,(150,150), (250,250),(255),-1)"
   ]
  },
  {
   "cell_type": "code",
   "execution_count": 5,
   "id": "af8ddb66-e405-43a6-8445-120421cd9c1e",
   "metadata": {},
   "outputs": [],
   "source": [
    "cv2.imshow(\"lower intensity\", b_i)\n",
    "cv2.waitKey(0)\n",
    "cv2.destroyAllWindows()"
   ]
  },
  {
   "cell_type": "code",
   "execution_count": 6,
   "id": "1badae04-9e31-42d5-99fa-3f6ea88536d7",
   "metadata": {},
   "outputs": [
    {
     "data": {
      "text/plain": [
       "array([[0, 0, 0, ..., 0, 0, 0],\n",
       "       [0, 0, 0, ..., 0, 0, 0],\n",
       "       [0, 0, 0, ..., 0, 0, 0],\n",
       "       ...,\n",
       "       [0, 0, 0, ..., 0, 0, 0],\n",
       "       [0, 0, 0, ..., 0, 0, 0],\n",
       "       [0, 0, 0, ..., 0, 0, 0]], dtype=uint8)"
      ]
     },
     "execution_count": 6,
     "metadata": {},
     "output_type": "execute_result"
    }
   ],
   "source": [
    "b_i1 = np.zeros((500,500), np.uint8)\n",
    "cv2.circle(b_i1,(100,100),100,(255),-1)"
   ]
  },
  {
   "cell_type": "code",
   "execution_count": 7,
   "id": "3c5545c4-6a6c-41a6-aa67-13cdaab48be5",
   "metadata": {},
   "outputs": [],
   "source": [
    "ands = cv2.bitwise_and(b_i, b_i1)\n",
    "ors=cv2.bitwise_or(b_i, b_i)\n",
    "xors = cv2.bitwise_and(b_i, b_i1)\n",
    "cv2.imshow(\"1\", b_i1)\n",
    "cv2.imshow(\"2\", b_i)\n",
    "cv2.imshow(\"and\", ands)\n",
    "cv2.imshow(\"or\", ors)\n",
    "v2.imshow(\"xor\", xors)\n",
    "cv2.waitKey(0)\n",
    "cv2.destroyAllWindows()"
   ]
  },
  {
   "cell_type": "code",
   "execution_count": null,
   "id": "13a36880-ae91-43cf-b28d-39b919b0d098",
   "metadata": {},
   "outputs": [],
   "source": [
    "ands = cv2.bitwise_and(b_i, b_i1)\n",
    "ors=cv2.bitwise_or(b_i, b_i)\n",
    "xors = cv2.bitwise_and(b_i, b_i1)\n",
    "cv2.imshow(\"and\", ands)\n",
    "cv2.imshow(\"or\", ors)\n",
    "cv2.imshow(\"xor\", xors)\n",
    "cv2.waitKey(0)\n",
    "cv2.destroyAllWindows()"
   ]
  }
 ],
 "metadata": {
  "kernelspec": {
   "display_name": "Python 3 (ipykernel)",
   "language": "python",
   "name": "python3"
  },
  "language_info": {
   "codemirror_mode": {
    "name": "ipython",
    "version": 3
   },
   "file_extension": ".py",
   "mimetype": "text/x-python",
   "name": "python",
   "nbconvert_exporter": "python",
   "pygments_lexer": "ipython3",
   "version": "3.10.2"
  }
 },
 "nbformat": 4,
 "nbformat_minor": 5
}
