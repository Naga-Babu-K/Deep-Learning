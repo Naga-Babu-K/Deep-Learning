{
 "cells": [
  {
   "cell_type": "code",
   "execution_count": 1,
   "id": "8d02e929-e69c-4e88-8709-15983e1bf9b8",
   "metadata": {},
   "outputs": [
    {
     "name": "stdout",
     "output_type": "stream",
     "text": [
      "WARNING:tensorflow:From C:\\Users\\Erik\\AppData\\Local\\Programs\\Python\\Python310\\lib\\site-packages\\keras\\src\\losses.py:2976: The name tf.losses.sparse_softmax_cross_entropy is deprecated. Please use tf.compat.v1.losses.sparse_softmax_cross_entropy instead.\n",
      "\n"
     ]
    }
   ],
   "source": [
    "import numpy as np\n",
    "import pandas as pd\n",
    "import matplotlib.pyplot as plt\n",
    "import sklearn\n",
    "import seaborn as sns\n",
    "import keras\n",
    "from keras.models import Sequential\n",
    "from keras.layers import InputLayer,Dense,Dropout,Flatten\n",
    "import os"
   ]
  },
  {
   "cell_type": "code",
   "execution_count": 2,
   "id": "41f703b3-779b-451d-a043-0c2fcb3492ed",
   "metadata": {},
   "outputs": [
    {
     "name": "stdout",
     "output_type": "stream",
     "text": [
      "(120, 10000) aravinth1.npy\n",
      "(739, 10000) BHARGAVI - panchumarthi Bhargavi.npy\n",
      "(894, 10000) bhargavimuramkar - Bhargavi Muramkar.npy\n",
      "(777, 10000) Deepthi - Chittiprolu Venkata Deepthi.npy\n",
      "(228, 10000) JayaKumar.npy\n",
      "(112, 10000) karthik.npy\n",
      "(40, 10000) Maheswari - Mahiaraveeti123.npy\n",
      "(700, 10000) Manoj - MANOJ KUMAR MAHARANA.npy\n",
      "(963, 10000) meghana - dimpy rampally.npy\n",
      "(145, 10000) naga.npy\n",
      "(700, 10000) Narasimha2 - Narasimharao.npy\n",
      "(167, 10000) palak.npy\n",
      "(600, 10000) Pavani1 - Pavani Pasula.npy\n",
      "(64, 10000) Pranav - Pranav Bhawsar.npy\n",
      "(954, 10000) raviteja - RAVI TEJA MADDELA.npy\n",
      "(171, 10000) raviteja.npy\n",
      "(534, 10000) Renuka - Renuka sri Annem.npy\n",
      "(76, 10000) shaheer.npy\n",
      "(268, 10000) swetha.npy\n"
     ]
    }
   ],
   "source": [
    "final_data= []\n",
    "count = 0\n",
    "dicton = {}\n",
    "for faces in os.listdir(r'images'):\n",
    "     if faces.endswith(\".npy\"):\n",
    "         print(np.load(r'images/{}'.format(faces)).shape,faces)\n",
    "         final_data.append(np.concatenate([np.load(r'images/{}'.format(faces)),\n",
    "                                         np.full((np.load(r'images/{}'.format(faces))\n",
    "                                                         .shape[0],1),count)],axis=1))\n",
    "         dicton.update({faces:count})\n",
    "         count+=1"
   ]
  },
  {
   "cell_type": "code",
   "execution_count": 3,
   "id": "294989d0-aa6f-423d-a7f2-a733f28c973a",
   "metadata": {},
   "outputs": [
    {
     "data": {
      "text/plain": [
       "(120, 10001)"
      ]
     },
     "execution_count": 3,
     "metadata": {},
     "output_type": "execute_result"
    }
   ],
   "source": [
    "final_data[0].shape"
   ]
  },
  {
   "cell_type": "code",
   "execution_count": 4,
   "id": "bd354933-f441-4beb-aa7f-cdddb98025e3",
   "metadata": {},
   "outputs": [],
   "source": [
    "array =np.concatenate(final_data)"
   ]
  },
  {
   "cell_type": "code",
   "execution_count": 5,
   "id": "0a40fe25-9db1-4fc6-bda6-b408b6e38429",
   "metadata": {},
   "outputs": [
    {
     "data": {
      "text/plain": [
       "array([[167, 168, 171, ..., 105, 109,   0],\n",
       "       [105, 102, 103, ..., 174, 168,   0],\n",
       "       [122, 124, 124, ..., 172, 167,   0],\n",
       "       ...,\n",
       "       [252, 250, 247, ...,  87,  87,  18],\n",
       "       [251, 251, 251, ...,  81,  86,  18],\n",
       "       [ 56,  56,  56, ..., 103, 103,  18]])"
      ]
     },
     "execution_count": 5,
     "metadata": {},
     "output_type": "execute_result"
    }
   ],
   "source": [
    "array"
   ]
  },
  {
   "cell_type": "code",
   "execution_count": 6,
   "id": "cb9f2923-6a27-48c9-a6fb-b570efffd728",
   "metadata": {},
   "outputs": [
    {
     "name": "stdout",
     "output_type": "stream",
     "text": [
      "{'aravinth1.npy': 0, 'BHARGAVI - panchumarthi Bhargavi.npy': 1, 'bhargavimuramkar - Bhargavi Muramkar.npy': 2, 'Deepthi - Chittiprolu Venkata Deepthi.npy': 3, 'JayaKumar.npy': 4, 'karthik.npy': 5, 'Maheswari - Mahiaraveeti123.npy': 6, 'Manoj - MANOJ KUMAR MAHARANA.npy': 7, 'meghana - dimpy rampally.npy': 8, 'naga.npy': 9, 'Narasimha2 - Narasimharao.npy': 10, 'palak.npy': 11, 'Pavani1 - Pavani Pasula.npy': 12, 'Pranav - Pranav Bhawsar.npy': 13, 'raviteja - RAVI TEJA MADDELA.npy': 14, 'raviteja.npy': 15, 'Renuka - Renuka sri Annem.npy': 16, 'shaheer.npy': 17, 'swetha.npy': 18}\n"
     ]
    }
   ],
   "source": [
    "print(dicton)"
   ]
  },
  {
   "cell_type": "code",
   "execution_count": 7,
   "id": "f7894f25-c770-4a6d-958b-7c4acfa075ba",
   "metadata": {},
   "outputs": [],
   "source": [
    "import pandas as pd\n",
    "df = pd .DataFrame(array)"
   ]
  },
  {
   "cell_type": "code",
   "execution_count": 8,
   "id": "74447a5e-8605-4815-abce-bdb303a8a420",
   "metadata": {},
   "outputs": [
    {
     "data": {
      "text/plain": [
       "RangeIndex(start=0, stop=10001, step=1)"
      ]
     },
     "execution_count": 8,
     "metadata": {},
     "output_type": "execute_result"
    }
   ],
   "source": [
    "df.columns"
   ]
  },
  {
   "cell_type": "code",
   "execution_count": 9,
   "id": "16090d34-cf96-457f-bccf-dac3a91127f9",
   "metadata": {
    "scrolled": true
   },
   "outputs": [
    {
     "data": {
      "text/html": [
       "<div>\n",
       "<style scoped>\n",
       "    .dataframe tbody tr th:only-of-type {\n",
       "        vertical-align: middle;\n",
       "    }\n",
       "\n",
       "    .dataframe tbody tr th {\n",
       "        vertical-align: top;\n",
       "    }\n",
       "\n",
       "    .dataframe thead th {\n",
       "        text-align: right;\n",
       "    }\n",
       "</style>\n",
       "<table border=\"1\" class=\"dataframe\">\n",
       "  <thead>\n",
       "    <tr style=\"text-align: right;\">\n",
       "      <th></th>\n",
       "      <th>0</th>\n",
       "      <th>1</th>\n",
       "      <th>2</th>\n",
       "      <th>3</th>\n",
       "      <th>4</th>\n",
       "      <th>5</th>\n",
       "      <th>6</th>\n",
       "      <th>7</th>\n",
       "      <th>8</th>\n",
       "      <th>9</th>\n",
       "      <th>...</th>\n",
       "      <th>9991</th>\n",
       "      <th>9992</th>\n",
       "      <th>9993</th>\n",
       "      <th>9994</th>\n",
       "      <th>9995</th>\n",
       "      <th>9996</th>\n",
       "      <th>9997</th>\n",
       "      <th>9998</th>\n",
       "      <th>9999</th>\n",
       "      <th>10000</th>\n",
       "    </tr>\n",
       "  </thead>\n",
       "  <tbody>\n",
       "    <tr>\n",
       "      <th>0</th>\n",
       "      <td>167</td>\n",
       "      <td>168</td>\n",
       "      <td>171</td>\n",
       "      <td>171</td>\n",
       "      <td>168</td>\n",
       "      <td>166</td>\n",
       "      <td>166</td>\n",
       "      <td>167</td>\n",
       "      <td>165</td>\n",
       "      <td>161</td>\n",
       "      <td>...</td>\n",
       "      <td>169</td>\n",
       "      <td>170</td>\n",
       "      <td>168</td>\n",
       "      <td>113</td>\n",
       "      <td>110</td>\n",
       "      <td>108</td>\n",
       "      <td>103</td>\n",
       "      <td>105</td>\n",
       "      <td>109</td>\n",
       "      <td>0</td>\n",
       "    </tr>\n",
       "    <tr>\n",
       "      <th>1</th>\n",
       "      <td>105</td>\n",
       "      <td>102</td>\n",
       "      <td>103</td>\n",
       "      <td>103</td>\n",
       "      <td>107</td>\n",
       "      <td>111</td>\n",
       "      <td>110</td>\n",
       "      <td>105</td>\n",
       "      <td>103</td>\n",
       "      <td>103</td>\n",
       "      <td>...</td>\n",
       "      <td>175</td>\n",
       "      <td>172</td>\n",
       "      <td>174</td>\n",
       "      <td>176</td>\n",
       "      <td>175</td>\n",
       "      <td>175</td>\n",
       "      <td>173</td>\n",
       "      <td>174</td>\n",
       "      <td>168</td>\n",
       "      <td>0</td>\n",
       "    </tr>\n",
       "    <tr>\n",
       "      <th>2</th>\n",
       "      <td>122</td>\n",
       "      <td>124</td>\n",
       "      <td>124</td>\n",
       "      <td>125</td>\n",
       "      <td>126</td>\n",
       "      <td>129</td>\n",
       "      <td>133</td>\n",
       "      <td>140</td>\n",
       "      <td>150</td>\n",
       "      <td>151</td>\n",
       "      <td>...</td>\n",
       "      <td>177</td>\n",
       "      <td>174</td>\n",
       "      <td>172</td>\n",
       "      <td>171</td>\n",
       "      <td>172</td>\n",
       "      <td>174</td>\n",
       "      <td>175</td>\n",
       "      <td>172</td>\n",
       "      <td>167</td>\n",
       "      <td>0</td>\n",
       "    </tr>\n",
       "    <tr>\n",
       "      <th>3</th>\n",
       "      <td>128</td>\n",
       "      <td>132</td>\n",
       "      <td>135</td>\n",
       "      <td>136</td>\n",
       "      <td>141</td>\n",
       "      <td>152</td>\n",
       "      <td>159</td>\n",
       "      <td>162</td>\n",
       "      <td>161</td>\n",
       "      <td>158</td>\n",
       "      <td>...</td>\n",
       "      <td>175</td>\n",
       "      <td>174</td>\n",
       "      <td>174</td>\n",
       "      <td>177</td>\n",
       "      <td>179</td>\n",
       "      <td>178</td>\n",
       "      <td>177</td>\n",
       "      <td>175</td>\n",
       "      <td>172</td>\n",
       "      <td>0</td>\n",
       "    </tr>\n",
       "    <tr>\n",
       "      <th>4</th>\n",
       "      <td>122</td>\n",
       "      <td>125</td>\n",
       "      <td>127</td>\n",
       "      <td>129</td>\n",
       "      <td>131</td>\n",
       "      <td>143</td>\n",
       "      <td>148</td>\n",
       "      <td>153</td>\n",
       "      <td>155</td>\n",
       "      <td>157</td>\n",
       "      <td>...</td>\n",
       "      <td>179</td>\n",
       "      <td>178</td>\n",
       "      <td>178</td>\n",
       "      <td>177</td>\n",
       "      <td>176</td>\n",
       "      <td>174</td>\n",
       "      <td>173</td>\n",
       "      <td>173</td>\n",
       "      <td>169</td>\n",
       "      <td>0</td>\n",
       "    </tr>\n",
       "    <tr>\n",
       "      <th>...</th>\n",
       "      <td>...</td>\n",
       "      <td>...</td>\n",
       "      <td>...</td>\n",
       "      <td>...</td>\n",
       "      <td>...</td>\n",
       "      <td>...</td>\n",
       "      <td>...</td>\n",
       "      <td>...</td>\n",
       "      <td>...</td>\n",
       "      <td>...</td>\n",
       "      <td>...</td>\n",
       "      <td>...</td>\n",
       "      <td>...</td>\n",
       "      <td>...</td>\n",
       "      <td>...</td>\n",
       "      <td>...</td>\n",
       "      <td>...</td>\n",
       "      <td>...</td>\n",
       "      <td>...</td>\n",
       "      <td>...</td>\n",
       "      <td>...</td>\n",
       "    </tr>\n",
       "    <tr>\n",
       "      <th>8247</th>\n",
       "      <td>124</td>\n",
       "      <td>111</td>\n",
       "      <td>103</td>\n",
       "      <td>105</td>\n",
       "      <td>104</td>\n",
       "      <td>109</td>\n",
       "      <td>112</td>\n",
       "      <td>118</td>\n",
       "      <td>125</td>\n",
       "      <td>121</td>\n",
       "      <td>...</td>\n",
       "      <td>99</td>\n",
       "      <td>104</td>\n",
       "      <td>94</td>\n",
       "      <td>79</td>\n",
       "      <td>88</td>\n",
       "      <td>95</td>\n",
       "      <td>98</td>\n",
       "      <td>106</td>\n",
       "      <td>100</td>\n",
       "      <td>18</td>\n",
       "    </tr>\n",
       "    <tr>\n",
       "      <th>8248</th>\n",
       "      <td>121</td>\n",
       "      <td>126</td>\n",
       "      <td>107</td>\n",
       "      <td>107</td>\n",
       "      <td>105</td>\n",
       "      <td>106</td>\n",
       "      <td>108</td>\n",
       "      <td>120</td>\n",
       "      <td>120</td>\n",
       "      <td>120</td>\n",
       "      <td>...</td>\n",
       "      <td>92</td>\n",
       "      <td>97</td>\n",
       "      <td>99</td>\n",
       "      <td>94</td>\n",
       "      <td>69</td>\n",
       "      <td>70</td>\n",
       "      <td>71</td>\n",
       "      <td>95</td>\n",
       "      <td>103</td>\n",
       "      <td>18</td>\n",
       "    </tr>\n",
       "    <tr>\n",
       "      <th>8249</th>\n",
       "      <td>252</td>\n",
       "      <td>250</td>\n",
       "      <td>247</td>\n",
       "      <td>247</td>\n",
       "      <td>244</td>\n",
       "      <td>239</td>\n",
       "      <td>216</td>\n",
       "      <td>118</td>\n",
       "      <td>112</td>\n",
       "      <td>109</td>\n",
       "      <td>...</td>\n",
       "      <td>89</td>\n",
       "      <td>86</td>\n",
       "      <td>85</td>\n",
       "      <td>86</td>\n",
       "      <td>86</td>\n",
       "      <td>87</td>\n",
       "      <td>87</td>\n",
       "      <td>87</td>\n",
       "      <td>87</td>\n",
       "      <td>18</td>\n",
       "    </tr>\n",
       "    <tr>\n",
       "      <th>8250</th>\n",
       "      <td>251</td>\n",
       "      <td>251</td>\n",
       "      <td>251</td>\n",
       "      <td>251</td>\n",
       "      <td>252</td>\n",
       "      <td>249</td>\n",
       "      <td>249</td>\n",
       "      <td>250</td>\n",
       "      <td>251</td>\n",
       "      <td>252</td>\n",
       "      <td>...</td>\n",
       "      <td>79</td>\n",
       "      <td>80</td>\n",
       "      <td>82</td>\n",
       "      <td>82</td>\n",
       "      <td>83</td>\n",
       "      <td>84</td>\n",
       "      <td>83</td>\n",
       "      <td>81</td>\n",
       "      <td>86</td>\n",
       "      <td>18</td>\n",
       "    </tr>\n",
       "    <tr>\n",
       "      <th>8251</th>\n",
       "      <td>56</td>\n",
       "      <td>56</td>\n",
       "      <td>56</td>\n",
       "      <td>56</td>\n",
       "      <td>56</td>\n",
       "      <td>56</td>\n",
       "      <td>56</td>\n",
       "      <td>56</td>\n",
       "      <td>56</td>\n",
       "      <td>55</td>\n",
       "      <td>...</td>\n",
       "      <td>102</td>\n",
       "      <td>101</td>\n",
       "      <td>101</td>\n",
       "      <td>101</td>\n",
       "      <td>101</td>\n",
       "      <td>102</td>\n",
       "      <td>102</td>\n",
       "      <td>103</td>\n",
       "      <td>103</td>\n",
       "      <td>18</td>\n",
       "    </tr>\n",
       "  </tbody>\n",
       "</table>\n",
       "<p>8252 rows × 10001 columns</p>\n",
       "</div>"
      ],
      "text/plain": [
       "      0      1      2      3      4      5      6      7      8      9      \\\n",
       "0       167    168    171    171    168    166    166    167    165    161   \n",
       "1       105    102    103    103    107    111    110    105    103    103   \n",
       "2       122    124    124    125    126    129    133    140    150    151   \n",
       "3       128    132    135    136    141    152    159    162    161    158   \n",
       "4       122    125    127    129    131    143    148    153    155    157   \n",
       "...     ...    ...    ...    ...    ...    ...    ...    ...    ...    ...   \n",
       "8247    124    111    103    105    104    109    112    118    125    121   \n",
       "8248    121    126    107    107    105    106    108    120    120    120   \n",
       "8249    252    250    247    247    244    239    216    118    112    109   \n",
       "8250    251    251    251    251    252    249    249    250    251    252   \n",
       "8251     56     56     56     56     56     56     56     56     56     55   \n",
       "\n",
       "      ...  9991   9992   9993   9994   9995   9996   9997   9998   9999   \\\n",
       "0     ...    169    170    168    113    110    108    103    105    109   \n",
       "1     ...    175    172    174    176    175    175    173    174    168   \n",
       "2     ...    177    174    172    171    172    174    175    172    167   \n",
       "3     ...    175    174    174    177    179    178    177    175    172   \n",
       "4     ...    179    178    178    177    176    174    173    173    169   \n",
       "...   ...    ...    ...    ...    ...    ...    ...    ...    ...    ...   \n",
       "8247  ...     99    104     94     79     88     95     98    106    100   \n",
       "8248  ...     92     97     99     94     69     70     71     95    103   \n",
       "8249  ...     89     86     85     86     86     87     87     87     87   \n",
       "8250  ...     79     80     82     82     83     84     83     81     86   \n",
       "8251  ...    102    101    101    101    101    102    102    103    103   \n",
       "\n",
       "      10000  \n",
       "0         0  \n",
       "1         0  \n",
       "2         0  \n",
       "3         0  \n",
       "4         0  \n",
       "...     ...  \n",
       "8247     18  \n",
       "8248     18  \n",
       "8249     18  \n",
       "8250     18  \n",
       "8251     18  \n",
       "\n",
       "[8252 rows x 10001 columns]"
      ]
     },
     "execution_count": 9,
     "metadata": {},
     "output_type": "execute_result"
    }
   ],
   "source": [
    "df"
   ]
  },
  {
   "cell_type": "code",
   "execution_count": 10,
   "id": "47ce85cb-20c8-47ee-9e11-a7a5fd30462e",
   "metadata": {},
   "outputs": [],
   "source": [
    "df.rename(columns={10000:\"label\"},inplace=True)"
   ]
  },
  {
   "cell_type": "code",
   "execution_count": 11,
   "id": "247204f5-374f-48e1-bae1-4585edc1fd0c",
   "metadata": {},
   "outputs": [
    {
     "data": {
      "text/html": [
       "<div>\n",
       "<style scoped>\n",
       "    .dataframe tbody tr th:only-of-type {\n",
       "        vertical-align: middle;\n",
       "    }\n",
       "\n",
       "    .dataframe tbody tr th {\n",
       "        vertical-align: top;\n",
       "    }\n",
       "\n",
       "    .dataframe thead th {\n",
       "        text-align: right;\n",
       "    }\n",
       "</style>\n",
       "<table border=\"1\" class=\"dataframe\">\n",
       "  <thead>\n",
       "    <tr style=\"text-align: right;\">\n",
       "      <th></th>\n",
       "      <th>0</th>\n",
       "      <th>1</th>\n",
       "      <th>2</th>\n",
       "      <th>3</th>\n",
       "      <th>4</th>\n",
       "      <th>5</th>\n",
       "      <th>6</th>\n",
       "      <th>7</th>\n",
       "      <th>8</th>\n",
       "      <th>9</th>\n",
       "      <th>...</th>\n",
       "      <th>9991</th>\n",
       "      <th>9992</th>\n",
       "      <th>9993</th>\n",
       "      <th>9994</th>\n",
       "      <th>9995</th>\n",
       "      <th>9996</th>\n",
       "      <th>9997</th>\n",
       "      <th>9998</th>\n",
       "      <th>9999</th>\n",
       "      <th>label</th>\n",
       "    </tr>\n",
       "  </thead>\n",
       "  <tbody>\n",
       "    <tr>\n",
       "      <th>0</th>\n",
       "      <td>167</td>\n",
       "      <td>168</td>\n",
       "      <td>171</td>\n",
       "      <td>171</td>\n",
       "      <td>168</td>\n",
       "      <td>166</td>\n",
       "      <td>166</td>\n",
       "      <td>167</td>\n",
       "      <td>165</td>\n",
       "      <td>161</td>\n",
       "      <td>...</td>\n",
       "      <td>169</td>\n",
       "      <td>170</td>\n",
       "      <td>168</td>\n",
       "      <td>113</td>\n",
       "      <td>110</td>\n",
       "      <td>108</td>\n",
       "      <td>103</td>\n",
       "      <td>105</td>\n",
       "      <td>109</td>\n",
       "      <td>0</td>\n",
       "    </tr>\n",
       "    <tr>\n",
       "      <th>1</th>\n",
       "      <td>105</td>\n",
       "      <td>102</td>\n",
       "      <td>103</td>\n",
       "      <td>103</td>\n",
       "      <td>107</td>\n",
       "      <td>111</td>\n",
       "      <td>110</td>\n",
       "      <td>105</td>\n",
       "      <td>103</td>\n",
       "      <td>103</td>\n",
       "      <td>...</td>\n",
       "      <td>175</td>\n",
       "      <td>172</td>\n",
       "      <td>174</td>\n",
       "      <td>176</td>\n",
       "      <td>175</td>\n",
       "      <td>175</td>\n",
       "      <td>173</td>\n",
       "      <td>174</td>\n",
       "      <td>168</td>\n",
       "      <td>0</td>\n",
       "    </tr>\n",
       "    <tr>\n",
       "      <th>2</th>\n",
       "      <td>122</td>\n",
       "      <td>124</td>\n",
       "      <td>124</td>\n",
       "      <td>125</td>\n",
       "      <td>126</td>\n",
       "      <td>129</td>\n",
       "      <td>133</td>\n",
       "      <td>140</td>\n",
       "      <td>150</td>\n",
       "      <td>151</td>\n",
       "      <td>...</td>\n",
       "      <td>177</td>\n",
       "      <td>174</td>\n",
       "      <td>172</td>\n",
       "      <td>171</td>\n",
       "      <td>172</td>\n",
       "      <td>174</td>\n",
       "      <td>175</td>\n",
       "      <td>172</td>\n",
       "      <td>167</td>\n",
       "      <td>0</td>\n",
       "    </tr>\n",
       "    <tr>\n",
       "      <th>3</th>\n",
       "      <td>128</td>\n",
       "      <td>132</td>\n",
       "      <td>135</td>\n",
       "      <td>136</td>\n",
       "      <td>141</td>\n",
       "      <td>152</td>\n",
       "      <td>159</td>\n",
       "      <td>162</td>\n",
       "      <td>161</td>\n",
       "      <td>158</td>\n",
       "      <td>...</td>\n",
       "      <td>175</td>\n",
       "      <td>174</td>\n",
       "      <td>174</td>\n",
       "      <td>177</td>\n",
       "      <td>179</td>\n",
       "      <td>178</td>\n",
       "      <td>177</td>\n",
       "      <td>175</td>\n",
       "      <td>172</td>\n",
       "      <td>0</td>\n",
       "    </tr>\n",
       "    <tr>\n",
       "      <th>4</th>\n",
       "      <td>122</td>\n",
       "      <td>125</td>\n",
       "      <td>127</td>\n",
       "      <td>129</td>\n",
       "      <td>131</td>\n",
       "      <td>143</td>\n",
       "      <td>148</td>\n",
       "      <td>153</td>\n",
       "      <td>155</td>\n",
       "      <td>157</td>\n",
       "      <td>...</td>\n",
       "      <td>179</td>\n",
       "      <td>178</td>\n",
       "      <td>178</td>\n",
       "      <td>177</td>\n",
       "      <td>176</td>\n",
       "      <td>174</td>\n",
       "      <td>173</td>\n",
       "      <td>173</td>\n",
       "      <td>169</td>\n",
       "      <td>0</td>\n",
       "    </tr>\n",
       "    <tr>\n",
       "      <th>...</th>\n",
       "      <td>...</td>\n",
       "      <td>...</td>\n",
       "      <td>...</td>\n",
       "      <td>...</td>\n",
       "      <td>...</td>\n",
       "      <td>...</td>\n",
       "      <td>...</td>\n",
       "      <td>...</td>\n",
       "      <td>...</td>\n",
       "      <td>...</td>\n",
       "      <td>...</td>\n",
       "      <td>...</td>\n",
       "      <td>...</td>\n",
       "      <td>...</td>\n",
       "      <td>...</td>\n",
       "      <td>...</td>\n",
       "      <td>...</td>\n",
       "      <td>...</td>\n",
       "      <td>...</td>\n",
       "      <td>...</td>\n",
       "      <td>...</td>\n",
       "    </tr>\n",
       "    <tr>\n",
       "      <th>8247</th>\n",
       "      <td>124</td>\n",
       "      <td>111</td>\n",
       "      <td>103</td>\n",
       "      <td>105</td>\n",
       "      <td>104</td>\n",
       "      <td>109</td>\n",
       "      <td>112</td>\n",
       "      <td>118</td>\n",
       "      <td>125</td>\n",
       "      <td>121</td>\n",
       "      <td>...</td>\n",
       "      <td>99</td>\n",
       "      <td>104</td>\n",
       "      <td>94</td>\n",
       "      <td>79</td>\n",
       "      <td>88</td>\n",
       "      <td>95</td>\n",
       "      <td>98</td>\n",
       "      <td>106</td>\n",
       "      <td>100</td>\n",
       "      <td>18</td>\n",
       "    </tr>\n",
       "    <tr>\n",
       "      <th>8248</th>\n",
       "      <td>121</td>\n",
       "      <td>126</td>\n",
       "      <td>107</td>\n",
       "      <td>107</td>\n",
       "      <td>105</td>\n",
       "      <td>106</td>\n",
       "      <td>108</td>\n",
       "      <td>120</td>\n",
       "      <td>120</td>\n",
       "      <td>120</td>\n",
       "      <td>...</td>\n",
       "      <td>92</td>\n",
       "      <td>97</td>\n",
       "      <td>99</td>\n",
       "      <td>94</td>\n",
       "      <td>69</td>\n",
       "      <td>70</td>\n",
       "      <td>71</td>\n",
       "      <td>95</td>\n",
       "      <td>103</td>\n",
       "      <td>18</td>\n",
       "    </tr>\n",
       "    <tr>\n",
       "      <th>8249</th>\n",
       "      <td>252</td>\n",
       "      <td>250</td>\n",
       "      <td>247</td>\n",
       "      <td>247</td>\n",
       "      <td>244</td>\n",
       "      <td>239</td>\n",
       "      <td>216</td>\n",
       "      <td>118</td>\n",
       "      <td>112</td>\n",
       "      <td>109</td>\n",
       "      <td>...</td>\n",
       "      <td>89</td>\n",
       "      <td>86</td>\n",
       "      <td>85</td>\n",
       "      <td>86</td>\n",
       "      <td>86</td>\n",
       "      <td>87</td>\n",
       "      <td>87</td>\n",
       "      <td>87</td>\n",
       "      <td>87</td>\n",
       "      <td>18</td>\n",
       "    </tr>\n",
       "    <tr>\n",
       "      <th>8250</th>\n",
       "      <td>251</td>\n",
       "      <td>251</td>\n",
       "      <td>251</td>\n",
       "      <td>251</td>\n",
       "      <td>252</td>\n",
       "      <td>249</td>\n",
       "      <td>249</td>\n",
       "      <td>250</td>\n",
       "      <td>251</td>\n",
       "      <td>252</td>\n",
       "      <td>...</td>\n",
       "      <td>79</td>\n",
       "      <td>80</td>\n",
       "      <td>82</td>\n",
       "      <td>82</td>\n",
       "      <td>83</td>\n",
       "      <td>84</td>\n",
       "      <td>83</td>\n",
       "      <td>81</td>\n",
       "      <td>86</td>\n",
       "      <td>18</td>\n",
       "    </tr>\n",
       "    <tr>\n",
       "      <th>8251</th>\n",
       "      <td>56</td>\n",
       "      <td>56</td>\n",
       "      <td>56</td>\n",
       "      <td>56</td>\n",
       "      <td>56</td>\n",
       "      <td>56</td>\n",
       "      <td>56</td>\n",
       "      <td>56</td>\n",
       "      <td>56</td>\n",
       "      <td>55</td>\n",
       "      <td>...</td>\n",
       "      <td>102</td>\n",
       "      <td>101</td>\n",
       "      <td>101</td>\n",
       "      <td>101</td>\n",
       "      <td>101</td>\n",
       "      <td>102</td>\n",
       "      <td>102</td>\n",
       "      <td>103</td>\n",
       "      <td>103</td>\n",
       "      <td>18</td>\n",
       "    </tr>\n",
       "  </tbody>\n",
       "</table>\n",
       "<p>8252 rows × 10001 columns</p>\n",
       "</div>"
      ],
      "text/plain": [
       "        0    1    2    3    4    5    6    7    8    9  ...  9991  9992  9993  \\\n",
       "0     167  168  171  171  168  166  166  167  165  161  ...   169   170   168   \n",
       "1     105  102  103  103  107  111  110  105  103  103  ...   175   172   174   \n",
       "2     122  124  124  125  126  129  133  140  150  151  ...   177   174   172   \n",
       "3     128  132  135  136  141  152  159  162  161  158  ...   175   174   174   \n",
       "4     122  125  127  129  131  143  148  153  155  157  ...   179   178   178   \n",
       "...   ...  ...  ...  ...  ...  ...  ...  ...  ...  ...  ...   ...   ...   ...   \n",
       "8247  124  111  103  105  104  109  112  118  125  121  ...    99   104    94   \n",
       "8248  121  126  107  107  105  106  108  120  120  120  ...    92    97    99   \n",
       "8249  252  250  247  247  244  239  216  118  112  109  ...    89    86    85   \n",
       "8250  251  251  251  251  252  249  249  250  251  252  ...    79    80    82   \n",
       "8251   56   56   56   56   56   56   56   56   56   55  ...   102   101   101   \n",
       "\n",
       "      9994  9995  9996  9997  9998  9999  label  \n",
       "0      113   110   108   103   105   109      0  \n",
       "1      176   175   175   173   174   168      0  \n",
       "2      171   172   174   175   172   167      0  \n",
       "3      177   179   178   177   175   172      0  \n",
       "4      177   176   174   173   173   169      0  \n",
       "...    ...   ...   ...   ...   ...   ...    ...  \n",
       "8247    79    88    95    98   106   100     18  \n",
       "8248    94    69    70    71    95   103     18  \n",
       "8249    86    86    87    87    87    87     18  \n",
       "8250    82    83    84    83    81    86     18  \n",
       "8251   101   101   102   102   103   103     18  \n",
       "\n",
       "[8252 rows x 10001 columns]"
      ]
     },
     "execution_count": 11,
     "metadata": {},
     "output_type": "execute_result"
    }
   ],
   "source": [
    "df"
   ]
  },
  {
   "cell_type": "code",
   "execution_count": 12,
   "id": "bcdb1e0b-b0ae-4351-979f-7341a3dc5259",
   "metadata": {},
   "outputs": [
    {
     "data": {
      "image/png": "[encoded data removed]",
      "text/plain": [
       "<Figure size 640x480 with 1 Axes>"
      ]
     },
     "metadata": {},
     "output_type": "display_data"
    }
   ],
   "source": [
    "a=df[df['label']==8]\n",
    "b=a.iloc[12:13,:-1]\n",
    "image = np.array(b, dtype=np.uint8).reshape((100, 100))\n",
    "    \n",
    "plt.imshow(image, cmap='gray')  # Assuming grayscale images\n",
    "\n",
    "plt.show()"
   ]
  },
  {
   "cell_type": "code",
   "execution_count": 13,
   "id": "417587ca-a285-4c91-9357-5dc492daa144",
   "metadata": {},
   "outputs": [
    {
     "data": {
      "text/plain": [
       "Index([      0,       1,       2,       3,       4,       5,       6,       7,\n",
       "             8,       9,\n",
       "       ...\n",
       "          9991,    9992,    9993,    9994,    9995,    9996,    9997,    9998,\n",
       "          9999, 'label'],\n",
       "      dtype='object', length=10001)"
      ]
     },
     "execution_count": 13,
     "metadata": {},
     "output_type": "execute_result"
    }
   ],
   "source": [
    "df.columns"
   ]
  },
  {
   "cell_type": "code",
   "execution_count": 14,
   "id": "1921052c-f220-4842-b9d1-731eed260a44",
   "metadata": {},
   "outputs": [
    {
     "data": {
      "text/plain": [
       "0        0\n",
       "1        0\n",
       "2        0\n",
       "3        0\n",
       "4        0\n",
       "        ..\n",
       "8247    18\n",
       "8248    18\n",
       "8249    18\n",
       "8250    18\n",
       "8251    18\n",
       "Name: label, Length: 8252, dtype: int32"
      ]
     },
     "execution_count": 14,
     "metadata": {},
     "output_type": "execute_result"
    }
   ],
   "source": [
    "y = df.pop('label')\n",
    "y"
   ]
  },
  {
   "cell_type": "code",
   "execution_count": 15,
   "id": "ad2a5da9-fbae-4786-839b-37a95e17efe9",
   "metadata": {},
   "outputs": [],
   "source": [
    "X=df"
   ]
  },
  {
   "cell_type": "code",
   "execution_count": 16,
   "id": "d7715060-2f69-467b-ba62-836bf3dc3418",
   "metadata": {},
   "outputs": [],
   "source": [
    "from sklearn.model_selection import train_test_split\n",
    "X_train,X_test,y_train,y_test = train_test_split(X,y,test_size=0.3,stratify=y)"
   ]
  },
  {
   "cell_type": "code",
   "execution_count": 17,
   "id": "ca613c9a-935f-4d96-bba5-eb8b7c8e93f0",
   "metadata": {},
   "outputs": [
    {
     "data": {
      "text/plain": [
       "(5776, 10000)"
      ]
     },
     "execution_count": 17,
     "metadata": {},
     "output_type": "execute_result"
    }
   ],
   "source": [
    "X_train.shape"
   ]
  },
  {
   "cell_type": "code",
   "execution_count": 18,
   "id": "5f18ac03-be4d-463d-b26a-1c2a5110355f",
   "metadata": {},
   "outputs": [
    {
     "data": {
      "text/plain": [
       "(2476,)"
      ]
     },
     "execution_count": 18,
     "metadata": {},
     "output_type": "execute_result"
    }
   ],
   "source": [
    "y_test.shape"
   ]
  },
  {
   "cell_type": "code",
   "execution_count": 19,
   "id": "4c490434-f45d-47e4-8382-6115053e0368",
   "metadata": {},
   "outputs": [],
   "source": [
    "from sklearn.preprocessing import StandardScaler,MinMaxScaler\n",
    "std= StandardScaler()\n",
    "X_train=std.fit_transform(X_train)\n",
    "X_test=std.transform(X_test)"
   ]
  },
  {
   "cell_type": "code",
   "execution_count": 20,
   "id": "6e5e6ce4-4609-4027-9cad-5d979e957a1f",
   "metadata": {},
   "outputs": [
    {
     "name": "stdout",
     "output_type": "stream",
     "text": [
      "WARNING:tensorflow:From C:\\Users\\Erik\\AppData\\Local\\Programs\\Python\\Python310\\lib\\site-packages\\keras\\src\\backend.py:873: The name tf.get_default_graph is deprecated. Please use tf.compat.v1.get_default_graph instead.\n",
      "\n",
      "Model: \"sequential\"\n",
      "_________________________________________________________________\n",
      " Layer (type)                Output Shape              Param #   \n",
      "=================================================================\n",
      " flatten (Flatten)           (None, 10000)             0         \n",
      "                                                                 \n",
      " dense (Dense)               (None, 60)                600060    \n",
      "                                                                 \n",
      " dense_1 (Dense)             (None, 40)                2440      \n",
      "                                                                 \n",
      " dense_2 (Dense)             (None, 30)                1230      \n",
      "                                                                 \n",
      " dense_3 (Dense)             (None, 20)                620       \n",
      "                                                                 \n",
      " dropout (Dropout)           (None, 20)                0         \n",
      "                                                                 \n",
      " dense_4 (Dense)             (None, 26)                546       \n",
      "                                                                 \n",
      "=================================================================\n",
      "Total params: 604896 (2.31 MB)\n",
      "Trainable params: 604896 (2.31 MB)\n",
      "Non-trainable params: 0 (0.00 Byte)\n",
      "_________________________________________________________________\n"
     ]
    }
   ],
   "source": [
    "model = Sequential()\n",
    "model.add(InputLayer(input_shape=(10000,)))\n",
    "model.add(Flatten()) \n",
    "model.add(Dense(60,activation=\"relu\",use_bias=True))\n",
    "model.add(Dense(40,activation=\"relu\",use_bias=True))\n",
    "model.add(Dense(30,activation=\"relu\",use_bias=True))\n",
    "model.add(Dense(20,activation=\"relu\",use_bias=True))\n",
    "model.add(Dropout(rate=0.2)) \n",
    "model.add(Dense(26,activation=\"softmax\",use_bias=True))\n",
    "model.summary()"
   ]
  },
  {
   "cell_type": "code",
   "execution_count": 21,
   "id": "c6daf10f-6884-403d-a3d8-f71fc31bc66d",
   "metadata": {},
   "outputs": [],
   "source": [
    "sgd=keras.optimizers.SGD(\n",
    "    learning_rate=0.01,\n",
    "    momentum=0.03)\n",
    "model.compile(optimizer=sgd,loss='sparse_categorical_crossentropy',metrics=['accuracy'])"
   ]
  },
  {
   "cell_type": "code",
   "execution_count": 22,
   "id": "c5451273-859b-4c46-8a27-6f2191abc221",
   "metadata": {},
   "outputs": [
    {
     "name": "stdout",
     "output_type": "stream",
     "text": [
      "Epoch 1/20\n",
      "WARNING:tensorflow:From C:\\Users\\Erik\\AppData\\Local\\Programs\\Python\\Python310\\lib\\site-packages\\keras\\src\\utils\\tf_utils.py:492: The name tf.ragged.RaggedTensorValue is deprecated. Please use tf.compat.v1.ragged.RaggedTensorValue instead.\n",
      "\n",
      "WARNING:tensorflow:From C:\\Users\\Erik\\AppData\\Local\\Programs\\Python\\Python310\\lib\\site-packages\\keras\\src\\engine\\base_layer_utils.py:384: The name tf.executing_eagerly_outside_functions is deprecated. Please use tf.compat.v1.executing_eagerly_outside_functions instead.\n",
      "\n",
      "41/41 [==============================] - 3s 28ms/step - loss: 2.2437 - accuracy: 0.3648 - val_loss: 1.3389 - val_accuracy: 0.7276\n",
      "Epoch 2/20\n",
      "41/41 [==============================] - 1s 13ms/step - loss: 1.1373 - accuracy: 0.6945 - val_loss: 0.6906 - val_accuracy: 0.8419\n",
      "Epoch 3/20\n",
      "41/41 [==============================] - 1s 15ms/step - loss: 0.7497 - accuracy: 0.7927 - val_loss: 0.4875 - val_accuracy: 0.8932\n",
      "Epoch 4/20\n",
      "41/41 [==============================] - 1s 19ms/step - loss: 0.5777 - accuracy: 0.8434 - val_loss: 0.3720 - val_accuracy: 0.9198\n",
      "Epoch 5/20\n",
      "41/41 [==============================] - 1s 19ms/step - loss: 0.4593 - accuracy: 0.8781 - val_loss: 0.2984 - val_accuracy: 0.9319\n",
      "Epoch 6/20\n",
      "41/41 [==============================] - 1s 19ms/step - loss: 0.3885 - accuracy: 0.8946 - val_loss: 0.2385 - val_accuracy: 0.9388\n",
      "Epoch 7/20\n",
      "41/41 [==============================] - 1s 16ms/step - loss: 0.3171 - accuracy: 0.9149 - val_loss: 0.1986 - val_accuracy: 0.9486\n",
      "Epoch 8/20\n",
      "41/41 [==============================] - 1s 16ms/step - loss: 0.2773 - accuracy: 0.9273 - val_loss: 0.1634 - val_accuracy: 0.9665\n",
      "Epoch 9/20\n",
      "41/41 [==============================] - 1s 17ms/step - loss: 0.2525 - accuracy: 0.9320 - val_loss: 0.1337 - val_accuracy: 0.9735\n",
      "Epoch 10/20\n",
      "41/41 [==============================] - 1s 17ms/step - loss: 0.2150 - accuracy: 0.9443 - val_loss: 0.1080 - val_accuracy: 0.9792\n",
      "Epoch 11/20\n",
      "41/41 [==============================] - 1s 19ms/step - loss: 0.1908 - accuracy: 0.9508 - val_loss: 0.0904 - val_accuracy: 0.9833\n",
      "Epoch 12/20\n",
      "41/41 [==============================] - 1s 21ms/step - loss: 0.1848 - accuracy: 0.9533 - val_loss: 0.0774 - val_accuracy: 0.9850\n",
      "Epoch 13/20\n",
      "41/41 [==============================] - 1s 21ms/step - loss: 0.1589 - accuracy: 0.9580 - val_loss: 0.0687 - val_accuracy: 0.9879\n",
      "Epoch 14/20\n",
      "41/41 [==============================] - 1s 21ms/step - loss: 0.1457 - accuracy: 0.9649 - val_loss: 0.0593 - val_accuracy: 0.9879\n",
      "Epoch 15/20\n",
      "41/41 [==============================] - 1s 22ms/step - loss: 0.1349 - accuracy: 0.9661 - val_loss: 0.0538 - val_accuracy: 0.9902\n",
      "Epoch 16/20\n",
      "41/41 [==============================] - 1s 17ms/step - loss: 0.1154 - accuracy: 0.9738 - val_loss: 0.0470 - val_accuracy: 0.9902\n",
      "Epoch 17/20\n",
      "41/41 [==============================] - 1s 16ms/step - loss: 0.1224 - accuracy: 0.9688 - val_loss: 0.0404 - val_accuracy: 0.9908\n",
      "Epoch 18/20\n",
      "41/41 [==============================] - 1s 19ms/step - loss: 0.1112 - accuracy: 0.9730 - val_loss: 0.0393 - val_accuracy: 0.9913\n",
      "Epoch 19/20\n",
      "41/41 [==============================] - 1s 22ms/step - loss: 0.0974 - accuracy: 0.9775 - val_loss: 0.0355 - val_accuracy: 0.9908\n",
      "Epoch 20/20\n",
      "41/41 [==============================] - 1s 27ms/step - loss: 0.0995 - accuracy: 0.9743 - val_loss: 0.0339 - val_accuracy: 0.9919\n"
     ]
    }
   ],
   "source": [
    "history=model.fit(X_train,y_train,epochs=20,batch_size=100,validation_split=0.3,shuffle=True,validation_freq=1)"
   ]
  },
  {
   "cell_type": "code",
   "execution_count": 24,
   "id": "4fc1127e-69ad-4acb-9e3b-b6904448248d",
   "metadata": {},
   "outputs": [
    {
     "data": {
      "text/plain": [
       "[<matplotlib.lines.Line2D at 0x25a2dceaf80>]"
      ]
     },
     "execution_count": 24,
     "metadata": {},
     "output_type": "execute_result"
    },
    {
     "data": {
      "image/png": "[encoded data removed]",
      "text/plain": [
       "<Figure size 640x480 with 1 Axes>"
      ]
     },
     "metadata": {},
     "output_type": "display_data"
    }
   ],
   "source": [
    "plt.plot(range(1,21),history.history['loss'],label='train')\n",
    "plt.plot(range(1,21),history.history['val_loss'],label='test')"
   ]
  },
  {
   "cell_type": "code",
   "execution_count": 25,
   "id": "c8977cf4-5e0d-42f9-9d50-c815fdd56c2f",
   "metadata": {},
   "outputs": [
    {
     "name": "stdout",
     "output_type": "stream",
     "text": [
      "78/78 [==============================] - 0s 3ms/step\n"
     ]
    },
    {
     "data": {
      "text/plain": [
       "array([[1.8857603e-08, 2.7595704e-10, 8.5480629e-08, ..., 5.7005618e-08,\n",
       "        1.0128887e-06, 1.0052556e-08],\n",
       "       [1.7787503e-06, 5.7998682e-11, 1.1416024e-07, ..., 6.3065592e-08,\n",
       "        3.2672120e-05, 8.2906454e-10],\n",
       "       [4.7435827e-07, 5.7486131e-06, 2.3215676e-07, ..., 1.7010717e-06,\n",
       "        6.0276143e-08, 3.8286654e-09],\n",
       "       ...,\n",
       "       [2.3740922e-06, 8.2023111e-11, 1.1669754e-07, ..., 7.8502595e-08,\n",
       "        2.8342107e-05, 8.6602492e-10],\n",
       "       [8.7449183e-07, 8.4436068e-04, 9.9819559e-01, ..., 1.7146752e-06,\n",
       "        1.8343722e-05, 6.1375490e-06],\n",
       "       [2.8705853e-09, 8.1363617e-11, 8.5955545e-09, ..., 1.2271745e-08,\n",
       "        3.3240067e-11, 2.1485711e-09]], dtype=float32)"
      ]
     },
     "execution_count": 25,
     "metadata": {},
     "output_type": "execute_result"
    }
   ],
   "source": [
    "pro=model.predict(X_test)\n",
    "pro"
   ]
  },
  {
   "cell_type": "code",
   "execution_count": 26,
   "id": "4ad73ad1-812e-4795-bfb5-ff25a8a68363",
   "metadata": {},
   "outputs": [],
   "source": [
    "product_class = np.argmax(pro,axis=1)"
   ]
  },
  {
   "cell_type": "code",
   "execution_count": 27,
   "id": "0d15df4f-6458-4b69-b33f-5e15eaae4581",
   "metadata": {},
   "outputs": [
    {
     "data": {
      "text/plain": [
       "array([12,  3, 14, ...,  3,  2, 10], dtype=int64)"
      ]
     },
     "execution_count": 27,
     "metadata": {},
     "output_type": "execute_result"
    }
   ],
   "source": [
    "product_class"
   ]
  },
  {
   "cell_type": "code",
   "execution_count": 28,
   "id": "4857ef02-b00f-430f-a584-4e99ac486026",
   "metadata": {},
   "outputs": [
    {
     "data": {
      "text/plain": [
       "0.9935379644588045"
      ]
     },
     "execution_count": 28,
     "metadata": {},
     "output_type": "execute_result"
    }
   ],
   "source": [
    "from sklearn.metrics import accuracy_score,confusion_matrix\n",
    "accuracy_score(y_test,product_class)"
   ]
  },
  {
   "cell_type": "code",
   "execution_count": 29,
   "id": "d4d405ae-3d79-4958-99a8-9447be00757f",
   "metadata": {},
   "outputs": [
    {
     "name": "stdout",
     "output_type": "stream",
     "text": [
      "[[ 32   0   1   0   0   0   0   1   0   0   0   0   0   0   0   0   2   0\n",
      "    0]\n",
      " [  0 222   0   0   0   0   0   0   0   0   0   0   0   0   0   0   0   0\n",
      "    0]\n",
      " [  0   0 264   0   0   0   0   0   0   0   0   4   0   0   0   0   0   0\n",
      "    0]\n",
      " [  0   0   0 233   0   0   0   0   0   0   0   0   0   0   0   0   0   0\n",
      "    0]\n",
      " [  0   0   0   0  68   0   0   0   0   0   0   0   0   0   0   0   0   0\n",
      "    0]\n",
      " [  0   0   0   0   0  34   0   0   0   0   0   0   0   0   0   0   0   0\n",
      "    0]\n",
      " [  0   0   0   0   0   0   8   0   0   0   0   0   4   0   0   0   0   0\n",
      "    0]\n",
      " [  0   0   0   0   0   0   0 210   0   0   0   0   0   0   0   0   0   0\n",
      "    0]\n",
      " [  0   0   1   0   0   0   0   0 288   0   0   0   0   0   0   0   0   0\n",
      "    0]\n",
      " [  0   0   0   0   0   0   0   0   0  44   0   0   0   0   0   0   0   0\n",
      "    0]\n",
      " [  0   0   0   0   0   0   0   0   0   0 209   1   0   0   0   0   0   0\n",
      "    0]\n",
      " [  0   0   1   0   0   0   0   0   0   0   0  49   0   0   0   0   0   0\n",
      "    0]\n",
      " [  0   0   0   0   0   0   0   0   0   0   0   0 180   0   0   0   0   0\n",
      "    0]\n",
      " [  0   0   0   0   0   0   0   0   0   0   0   0   0  19   0   0   0   0\n",
      "    0]\n",
      " [  0   0   0   0   0   0   0   0   0   0   0   0   0   0 286   0   0   0\n",
      "    0]\n",
      " [  0   0   0   0   0   0   0   0   0   0   0   0   0   0   0  51   0   0\n",
      "    0]\n",
      " [  0   0   0   0   0   0   0   0   0   0   0   0   0   0   0   0 160   0\n",
      "    0]\n",
      " [  0   0   0   0   0   0   0   0   0   0   0   0   0   0   0   0   0  23\n",
      "    0]\n",
      " [  0   0   1   0   0   0   0   0   0   0   0   0   0   0   0   0   0   0\n",
      "   80]]\n"
     ]
    }
   ],
   "source": [
    "print(confusion_matrix(y_test,product_class))"
   ]
  },
  {
   "cell_type": "code",
   "execution_count": 30,
   "id": "0f47ea91-7fc5-4eea-9b00-df58f6e9f557",
   "metadata": {},
   "outputs": [
    {
     "data": {
      "text/plain": [
       "{'loss': <tf.Tensor: shape=(), dtype=float32, numpy=0.04520383>,\n",
       " 'accuracy': <tf.Tensor: shape=(), dtype=float32, numpy=0.9907675>}"
      ]
     },
     "execution_count": 30,
     "metadata": {},
     "output_type": "execute_result"
    }
   ],
   "source": [
    "model.get_metrics_result()"
   ]
  },
  {
   "cell_type": "code",
   "execution_count": 2,
   "id": "efcb0813-5a0a-444d-ba69-086bbbd983c9",
   "metadata": {},
   "outputs": [
    {
     "ename": "error",
     "evalue": "OpenCV(4.9.0) D:\\a\\opencv-python\\opencv-python\\opencv\\modules\\imgproc\\src\\color.cpp:196: error: (-215:Assertion failed) !_src.empty() in function 'cv::cvtColor'\n",
     "output_type": "error",
     "traceback": [
      "\u001b[1;31m---------------------------------------------------------------------------\u001b[0m",
      "\u001b[1;31merror\u001b[0m                                     Traceback (most recent call last)",
      "Cell \u001b[1;32mIn[2], line 10\u001b[0m\n\u001b[0;32m      8\u001b[0m \u001b[38;5;28;01mwhile\u001b[39;00m \u001b[38;5;28;01mTrue\u001b[39;00m :\n\u001b[0;32m      9\u001b[0m     succ , img \u001b[38;5;241m=\u001b[39m vid\u001b[38;5;241m.\u001b[39mread()\n\u001b[1;32m---> 10\u001b[0m     gray_img \u001b[38;5;241m=\u001b[39m \u001b[43mcv2\u001b[49m\u001b[38;5;241;43m.\u001b[39;49m\u001b[43mcvtColor\u001b[49m\u001b[43m(\u001b[49m\u001b[43mimg\u001b[49m\u001b[43m,\u001b[49m\u001b[43mcv2\u001b[49m\u001b[38;5;241;43m.\u001b[39;49m\u001b[43mCOLOR_BGR2GRAY\u001b[49m\u001b[43m)\u001b[49m\n\u001b[0;32m     11\u001b[0m     array \u001b[38;5;241m=\u001b[39m face_detect\u001b[38;5;241m.\u001b[39mdetectMultiScale(gray_img)\n\u001b[0;32m     12\u001b[0m     \u001b[38;5;28;01mfor\u001b[39;00m x,y,w,h \u001b[38;5;129;01min\u001b[39;00m array:\n",
      "\u001b[1;31merror\u001b[0m: OpenCV(4.9.0) D:\\a\\opencv-python\\opencv-python\\opencv\\modules\\imgproc\\src\\color.cpp:196: error: (-215:Assertion failed) !_src.empty() in function 'cv::cvtColor'\n"
     ]
    }
   ],
   "source": [
    "import cv2\n",
    "vid = cv2.VideoCapture(0)\n",
    "from keras.models import load_model\n",
    "\n",
    "# Load the saved model\n",
    "#loaded_model = load_model('ANN_Attendance.keras')\n",
    "face_detect = cv2.CascadeClassifier(r'C:\\Users\\Hello\\Downloads\\haarcascade_frontalface_alt.xml')\n",
    "while True :\n",
    "    succ , img = vid.read()\n",
    "    gray_img = cv2.cvtColor(img,cv2.COLOR_BGR2GRAY)\n",
    "    array = face_detect.detectMultiScale(gray_img)\n",
    "    for x,y,w,h in array:\n",
    "        \n",
    "        crop_img = gray_img[y-10:y+h+10,x-10:x+w+10]\n",
    "        cv2.imshow(\"crop_img\",crop_img)\n",
    "    \n",
    "       \n",
    "        cv2.imshow(\"gray_img\",gray_img)\n",
    "        \n",
    "    \n",
    "        resized_img = cv2.resize(crop_img,(100,100))\n",
    "        data = np.asarray(resized_img)\n",
    "        data = data.reshape(1,10000)\n",
    "\n",
    "    \n",
    "        x=pd.DataFrame(data)\n",
    "        x_test=std.transform(x)\n",
    "        a=loaded_model.predict(x_test)\n",
    "        label=np.argmax(a)\n",
    "        value_to_find = label\n",
    "    \n",
    "    # Iterate through the dictionary to find the key corresponding to the value\n",
    "        found_key = None\n",
    "        for key, val in dicton.items():\n",
    "            if val == value_to_find:\n",
    "                found_key = key.split('.npy')[0]\n",
    "    \n",
    "        text = str(found_key)\n",
    "        font = cv2.FONT_HERSHEY_SIMPLEX\n",
    "        cv2.putText(img, text, (50, 50), font, 1, (0, 0, 255), 2, cv2.LINE_AA)\n",
    "        cv2.imshow(\"gray_img_text\",img)\n",
    "\n",
    "\n",
    "    if cv2.waitKey(1) & 255==ord(\"q\"):\n",
    "        break\n",
    "cv2.destroyAllWindows()"
   ]
  },
  {
   "cell_type": "code",
   "execution_count": null,
   "id": "362503bd-3ae9-4db0-9f79-ab3039dee0fb",
   "metadata": {},
   "outputs": [],
   "source": []
  },
  {
   "cell_type": "code",
   "execution_count": null,
   "id": "3ff64a4c-c1d8-47f3-a2ce-7e0f82096205",
   "metadata": {},
   "outputs": [],
   "source": []
  }
 ],
 "metadata": {
  "kernelspec": {
   "display_name": "Python 3 (ipykernel)",
   "language": "python",
   "name": "python3"
  },
  "language_info": {
   "codemirror_mode": {
    "name": "ipython",
    "version": 3
   },
   "file_extension": ".py",
   "mimetype": "text/x-python",
   "name": "python",
   "nbconvert_exporter": "python",
   "pygments_lexer": "ipython3",
   "version": "3.10.2"
  }
 },
 "nbformat": 4,
 "nbformat_minor": 5
}
