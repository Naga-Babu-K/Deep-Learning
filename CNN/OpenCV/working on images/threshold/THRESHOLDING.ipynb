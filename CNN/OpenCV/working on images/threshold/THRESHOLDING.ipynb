{
 "cells": [
  {
   "cell_type": "code",
   "execution_count": 3,
   "id": "77d97eba",
   "metadata": {},
   "outputs": [],
   "source": [
    "import cv2"
   ]
  },
  {
   "cell_type": "code",
   "execution_count": 4,
   "id": "2245953f",
   "metadata": {},
   "outputs": [],
   "source": [
    "img=cv2.imread(r\"C:\\Users\\LENOVO\\Downloads\\A-256-level-Grey-Scale-Ramp.png\",0)"
   ]
  },
  {
   "cell_type": "code",
   "execution_count": 5,
   "id": "6ccaaff8",
   "metadata": {},
   "outputs": [
    {
     "data": {
      "text/plain": [
       "(213, 850)"
      ]
     },
     "execution_count": 5,
     "metadata": {},
     "output_type": "execute_result"
    }
   ],
   "source": [
    "img.shape"
   ]
  },
  {
   "cell_type": "code",
   "execution_count": 6,
   "id": "3a4ea9df",
   "metadata": {},
   "outputs": [],
   "source": [
    "cv2.imshow(\"gray\",img)\n",
    "cv2.waitKey()\n",
    "cv2.destroyAllWindows()"
   ]
  },
  {
   "cell_type": "code",
   "execution_count": 7,
   "id": "f6207e74",
   "metadata": {},
   "outputs": [
    {
     "data": {
      "text/plain": [
       "array([[255, 189,  53, ..., 253, 254, 255],\n",
       "       [255, 189,  53, ..., 253, 254, 255],\n",
       "       [255, 189,  53, ..., 253, 254, 255],\n",
       "       ...,\n",
       "       [255, 189,  53, ..., 255, 255, 255],\n",
       "       [255, 189,  53, ..., 254, 255, 255],\n",
       "       [255, 189,  53, ..., 253, 254, 255]], dtype=uint8)"
      ]
     },
     "execution_count": 7,
     "metadata": {},
     "output_type": "execute_result"
    }
   ],
   "source": [
    "img"
   ]
  },
  {
   "cell_type": "code",
   "execution_count": 8,
   "id": "88d0a1c1",
   "metadata": {},
   "outputs": [],
   "source": [
    "img2=cv2.threshold(img,150,255,cv2.THRESH_BINARY)"
   ]
  },
  {
   "cell_type": "code",
   "execution_count": 13,
   "id": "6701b39d",
   "metadata": {},
   "outputs": [
    {
     "data": {
      "text/plain": [
       "(150.0,\n",
       " array([[255, 255,   0, ..., 255, 255, 255],\n",
       "        [255, 255,   0, ..., 255, 255, 255],\n",
       "        [255, 255,   0, ..., 255, 255, 255],\n",
       "        ...,\n",
       "        [255, 255,   0, ..., 255, 255, 255],\n",
       "        [255, 255,   0, ..., 255, 255, 255],\n",
       "        [255, 255,   0, ..., 255, 255, 255]], dtype=uint8))"
      ]
     },
     "execution_count": 13,
     "metadata": {},
     "output_type": "execute_result"
    }
   ],
   "source": [
    "img2"
   ]
  },
  {
   "cell_type": "code",
   "execution_count": 11,
   "id": "56098823",
   "metadata": {},
   "outputs": [
    {
     "data": {
      "text/plain": [
       "array([[255, 255,   0, ..., 255, 255, 255],\n",
       "       [255, 255,   0, ..., 255, 255, 255],\n",
       "       [255, 255,   0, ..., 255, 255, 255],\n",
       "       ...,\n",
       "       [255, 255,   0, ..., 255, 255, 255],\n",
       "       [255, 255,   0, ..., 255, 255, 255],\n",
       "       [255, 255,   0, ..., 255, 255, 255]], dtype=uint8)"
      ]
     },
     "execution_count": 11,
     "metadata": {},
     "output_type": "execute_result"
    }
   ],
   "source": [
    "img2[1]"
   ]
  },
  {
   "cell_type": "code",
   "execution_count": 29,
   "id": "74c168fc",
   "metadata": {},
   "outputs": [],
   "source": [
    "cv2.imshow(\"gray\",img)\n",
    "cv2.imshow(\"binary_thres\",img2[1])\n",
    "cv2.imshow(\"binary_thres1\",img3[1])\n",
    "cv2.imshow(\"tructated_thres2\",img4[1])\n",
    "cv2.waitKey()\n",
    "cv2.destroyAllWindows()"
   ]
  },
  {
   "cell_type": "code",
   "execution_count": 26,
   "id": "9f0c033d",
   "metadata": {},
   "outputs": [],
   "source": [
    "img4=cv2.threshold(img,150,250,cv2.THRESH_TRUNC)"
   ]
  },
  {
   "cell_type": "code",
   "execution_count": 27,
   "id": "88898bd0",
   "metadata": {},
   "outputs": [
    {
     "data": {
      "text/plain": [
       "array([[255, 189,  53, ..., 253, 254, 255],\n",
       "       [255, 189,  53, ..., 253, 254, 255],\n",
       "       [255, 189,  53, ..., 253, 254, 255],\n",
       "       ...,\n",
       "       [255, 189,  53, ..., 255, 255, 255],\n",
       "       [255, 189,  53, ..., 254, 255, 255],\n",
       "       [255, 189,  53, ..., 253, 254, 255]], dtype=uint8)"
      ]
     },
     "execution_count": 27,
     "metadata": {},
     "output_type": "execute_result"
    }
   ],
   "source": [
    "img"
   ]
  },
  {
   "cell_type": "code",
   "execution_count": 28,
   "id": "e1fec1d2",
   "metadata": {},
   "outputs": [
    {
     "data": {
      "text/plain": [
       "(150.0,\n",
       " array([[150, 150,  53, ..., 150, 150, 150],\n",
       "        [150, 150,  53, ..., 150, 150, 150],\n",
       "        [150, 150,  53, ..., 150, 150, 150],\n",
       "        ...,\n",
       "        [150, 150,  53, ..., 150, 150, 150],\n",
       "        [150, 150,  53, ..., 150, 150, 150],\n",
       "        [150, 150,  53, ..., 150, 150, 150]], dtype=uint8))"
      ]
     },
     "execution_count": 28,
     "metadata": {},
     "output_type": "execute_result"
    }
   ],
   "source": [
    "img4"
   ]
  },
  {
   "cell_type": "code",
   "execution_count": 14,
   "id": "8ba3c016",
   "metadata": {},
   "outputs": [],
   "source": [
    "img3=cv2.threshold(img,150,250,cv2.THRESH_BINARY_INV)"
   ]
  },
  {
   "cell_type": "code",
   "execution_count": 15,
   "id": "bcfd291d",
   "metadata": {},
   "outputs": [
    {
     "data": {
      "text/plain": [
       "(150.0,\n",
       " array([[  0,   0, 255, ...,   0,   0,   0],\n",
       "        [  0,   0, 255, ...,   0,   0,   0],\n",
       "        [  0,   0, 255, ...,   0,   0,   0],\n",
       "        ...,\n",
       "        [  0,   0, 255, ...,   0,   0,   0],\n",
       "        [  0,   0, 255, ...,   0,   0,   0],\n",
       "        [  0,   0, 255, ...,   0,   0,   0]], dtype=uint8))"
      ]
     },
     "execution_count": 15,
     "metadata": {},
     "output_type": "execute_result"
    }
   ],
   "source": [
    "img3"
   ]
  },
  {
   "cell_type": "code",
   "execution_count": 36,
   "id": "2671f529",
   "metadata": {},
   "outputs": [],
   "source": [
    "img2=cv2.imread(r\"C:\\Users\\LENOVO\\Music\\download (3).jpeg\",0)"
   ]
  },
  {
   "cell_type": "code",
   "execution_count": 37,
   "id": "3e08348c",
   "metadata": {},
   "outputs": [
    {
     "data": {
      "text/plain": [
       "(275, 183)"
      ]
     },
     "execution_count": 37,
     "metadata": {},
     "output_type": "execute_result"
    }
   ],
   "source": [
    "img2.shape"
   ]
  },
  {
   "cell_type": "code",
   "execution_count": 33,
   "id": "64c5572a",
   "metadata": {},
   "outputs": [
    {
     "data": {
      "text/plain": [
       "array([[255, 255, 255, ..., 255, 255, 255],\n",
       "       [255, 255, 255, ..., 255, 255, 255],\n",
       "       [255, 255, 255, ..., 255, 255, 255],\n",
       "       ...,\n",
       "       [255, 255, 255, ..., 255, 255, 255],\n",
       "       [255, 255, 255, ..., 255, 255, 255],\n",
       "       [255, 255, 255, ..., 255, 255, 255]], dtype=uint8)"
      ]
     },
     "execution_count": 33,
     "metadata": {},
     "output_type": "execute_result"
    }
   ],
   "source": [
    "cv2.threshold(img2,140,255,cv2.THRESH_BINARY)[1]"
   ]
  },
  {
   "cell_type": "code",
   "execution_count": 42,
   "id": "5824b4fa",
   "metadata": {},
   "outputs": [],
   "source": [
    "cv2.imshow(\"gray\",img2)\n",
    "cv2.imshow(\"binary_thres\",cv2.threshold(img2,140,255,cv2.THRESH_TOZERO)[1])\n",
    "cv2.imshow(\"binar1y_thres\",cv2.threshold(img2,140,255,cv2.THRESH_TOZERO_INV)[1])\n",
    "cv2.waitKey()\n",
    "cv2.destroyAllWindows()"
   ]
  },
  {
   "cell_type": "code",
   "execution_count": null,
   "id": "376c46ab",
   "metadata": {},
   "outputs": [],
   "source": []
  }
 ],
 "metadata": {
  "kernelspec": {
   "display_name": "Python 3 (ipykernel)",
   "language": "python",
   "name": "python3"
  },
  "language_info": {
   "codemirror_mode": {
    "name": "ipython",
    "version": 3
   },
   "file_extension": ".py",
   "mimetype": "text/x-python",
   "name": "python",
   "nbconvert_exporter": "python",
   "pygments_lexer": "ipython3",
   "version": "3.11.3"
  }
 },
 "nbformat": 4,
 "nbformat_minor": 5
}
