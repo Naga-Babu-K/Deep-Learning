{
 "cells": [
  {
   "cell_type": "markdown",
   "id": "90c7d005-1d93-418a-bd8e-e1e75ba0eb8d",
   "metadata": {},
   "source": [
    "# Convolutional operation"
   ]
  },
  {
   "cell_type": "code",
   "execution_count": 17,
   "id": "f2f4d451-2747-420e-ad81-7e15117363e7",
   "metadata": {},
   "outputs": [
    {
     "name": "stdout",
     "output_type": "stream",
     "text": [
      "Collecting mlflow\n",
      "  Downloading mlflow-2.11.3-py3-none-any.whl.metadata (15 kB)\n",
      "Requirement already satisfied: click<9,>=7.0 in c:\\users\\erik\\appdata\\local\\programs\\python\\python310\\lib\\site-packages (from mlflow) (8.1.7)\n",
      "Collecting cloudpickle<4 (from mlflow)\n",
      "  Downloading cloudpickle-3.0.0-py3-none-any.whl.metadata (7.0 kB)\n",
      "Collecting entrypoints<1 (from mlflow)\n",
      "  Downloading entrypoints-0.4-py3-none-any.whl.metadata (2.6 kB)\n",
      "Requirement already satisfied: gitpython<4,>=3.1.9 in c:\\users\\erik\\appdata\\local\\programs\\python\\python310\\lib\\site-packages (from mlflow) (3.1.40)\n",
      "Requirement already satisfied: pyyaml<7,>=5.1 in c:\\users\\erik\\appdata\\local\\programs\\python\\python310\\lib\\site-packages (from mlflow) (6.0.1)\n",
      "Requirement already satisfied: protobuf<5,>=3.12.0 in c:\\users\\erik\\appdata\\roaming\\python\\python310\\site-packages (from mlflow) (4.21.12)\n",
      "Requirement already satisfied: pytz<2025 in c:\\users\\erik\\appdata\\local\\programs\\python\\python310\\lib\\site-packages (from mlflow) (2023.3.post1)\n",
      "Requirement already satisfied: requests<3,>=2.17.3 in c:\\users\\erik\\appdata\\local\\programs\\python\\python310\\lib\\site-packages (from mlflow) (2.31.0)\n",
      "Requirement already satisfied: packaging<24 in c:\\users\\erik\\appdata\\local\\programs\\python\\python310\\lib\\site-packages (from mlflow) (23.2)\n",
      "Requirement already satisfied: importlib-metadata!=4.7.0,<8,>=3.7.0 in c:\\users\\erik\\appdata\\local\\programs\\python\\python310\\lib\\site-packages (from mlflow) (6.11.0)\n",
      "Collecting sqlparse<1,>=0.4.0 (from mlflow)\n",
      "  Downloading sqlparse-0.4.4-py3-none-any.whl.metadata (4.0 kB)\n",
      "Collecting alembic!=1.10.0,<2 (from mlflow)\n",
      "  Downloading alembic-1.13.1-py3-none-any.whl.metadata (7.4 kB)\n",
      "Collecting docker<8,>=4.0.0 (from mlflow)\n",
      "  Downloading docker-7.0.0-py3-none-any.whl.metadata (3.5 kB)\n",
      "Requirement already satisfied: Flask<4 in c:\\users\\erik\\appdata\\local\\programs\\python\\python310\\lib\\site-packages (from mlflow) (3.0.2)\n",
      "Requirement already satisfied: numpy<2 in c:\\users\\erik\\appdata\\local\\programs\\python\\python310\\lib\\site-packages (from mlflow) (1.26.2)\n",
      "Requirement already satisfied: scipy<2 in c:\\users\\erik\\appdata\\local\\programs\\python\\python310\\lib\\site-packages (from mlflow) (1.11.4)\n",
      "Requirement already satisfied: pandas<3 in c:\\users\\erik\\appdata\\local\\programs\\python\\python310\\lib\\site-packages (from mlflow) (2.1.3)\n",
      "Collecting querystring-parser<2 (from mlflow)\n",
      "  Downloading querystring_parser-1.2.4-py2.py3-none-any.whl.metadata (559 bytes)\n",
      "Collecting sqlalchemy<3,>=1.4.0 (from mlflow)\n",
      "  Downloading SQLAlchemy-2.0.29-cp310-cp310-win_amd64.whl.metadata (9.8 kB)\n",
      "Requirement already satisfied: scikit-learn<2 in c:\\users\\erik\\appdata\\roaming\\python\\python310\\site-packages (from mlflow) (1.3.2)\n",
      "Requirement already satisfied: pyarrow<16,>=4.0.0 in c:\\users\\erik\\appdata\\local\\programs\\python\\python310\\lib\\site-packages (from mlflow) (14.0.1)\n",
      "Requirement already satisfied: markdown<4,>=3.3 in c:\\users\\erik\\appdata\\local\\programs\\python\\python310\\lib\\site-packages (from mlflow) (3.5.2)\n",
      "Requirement already satisfied: matplotlib<4 in c:\\users\\erik\\appdata\\local\\programs\\python\\python310\\lib\\site-packages (from mlflow) (3.8.2)\n",
      "Collecting graphene<4 (from mlflow)\n",
      "  Downloading graphene-3.3-py2.py3-none-any.whl.metadata (7.7 kB)\n",
      "Collecting waitress<4 (from mlflow)\n",
      "  Downloading waitress-3.0.0-py3-none-any.whl.metadata (4.2 kB)\n",
      "Requirement already satisfied: Jinja2<4,>=3.0 in c:\\users\\erik\\appdata\\local\\programs\\python\\python310\\lib\\site-packages (from mlflow) (3.1.2)\n",
      "Collecting Mako (from alembic!=1.10.0,<2->mlflow)\n",
      "  Downloading Mako-1.3.2-py3-none-any.whl.metadata (2.9 kB)\n",
      "Requirement already satisfied: typing-extensions>=4 in c:\\users\\erik\\appdata\\local\\programs\\python\\python310\\lib\\site-packages (from alembic!=1.10.0,<2->mlflow) (4.8.0)\n",
      "Requirement already satisfied: colorama in c:\\users\\erik\\appdata\\local\\programs\\python\\python310\\lib\\site-packages (from click<9,>=7.0->mlflow) (0.4.6)\n",
      "Requirement already satisfied: urllib3>=1.26.0 in c:\\users\\erik\\appdata\\local\\programs\\python\\python310\\lib\\site-packages (from docker<8,>=4.0.0->mlflow) (1.26.0)\n",
      "Requirement already satisfied: pywin32>=304 in c:\\users\\erik\\appdata\\local\\programs\\python\\python310\\lib\\site-packages (from docker<8,>=4.0.0->mlflow) (306)\n",
      "Requirement already satisfied: Werkzeug>=3.0.0 in c:\\users\\erik\\appdata\\local\\programs\\python\\python310\\lib\\site-packages (from Flask<4->mlflow) (3.0.1)\n",
      "Requirement already satisfied: itsdangerous>=2.1.2 in c:\\users\\erik\\appdata\\local\\programs\\python\\python310\\lib\\site-packages (from Flask<4->mlflow) (2.1.2)\n",
      "Requirement already satisfied: blinker>=1.6.2 in c:\\users\\erik\\appdata\\local\\programs\\python\\python310\\lib\\site-packages (from Flask<4->mlflow) (1.7.0)\n",
      "Requirement already satisfied: gitdb<5,>=4.0.1 in c:\\users\\erik\\appdata\\local\\programs\\python\\python310\\lib\\site-packages (from gitpython<4,>=3.1.9->mlflow) (4.0.11)\n",
      "Collecting graphql-core<3.3,>=3.1 (from graphene<4->mlflow)\n",
      "  Downloading graphql_core-3.2.3-py3-none-any.whl.metadata (10 kB)\n",
      "Collecting graphql-relay<3.3,>=3.1 (from graphene<4->mlflow)\n",
      "  Downloading graphql_relay-3.2.0-py3-none-any.whl.metadata (12 kB)\n",
      "Collecting aniso8601<10,>=8 (from graphene<4->mlflow)\n",
      "  Downloading aniso8601-9.0.1-py2.py3-none-any.whl.metadata (23 kB)\n",
      "Requirement already satisfied: zipp>=0.5 in c:\\users\\erik\\appdata\\local\\programs\\python\\python310\\lib\\site-packages (from importlib-metadata!=4.7.0,<8,>=3.7.0->mlflow) (3.17.0)\n",
      "Requirement already satisfied: MarkupSafe>=2.0 in c:\\users\\erik\\appdata\\local\\programs\\python\\python310\\lib\\site-packages (from Jinja2<4,>=3.0->mlflow) (2.1.3)\n",
      "Requirement already satisfied: contourpy>=1.0.1 in c:\\users\\erik\\appdata\\local\\programs\\python\\python310\\lib\\site-packages (from matplotlib<4->mlflow) (1.2.0)\n",
      "Requirement already satisfied: cycler>=0.10 in c:\\users\\erik\\appdata\\local\\programs\\python\\python310\\lib\\site-packages (from matplotlib<4->mlflow) (0.12.1)\n",
      "Requirement already satisfied: fonttools>=4.22.0 in c:\\users\\erik\\appdata\\local\\programs\\python\\python310\\lib\\site-packages (from matplotlib<4->mlflow) (4.46.0)\n",
      "Requirement already satisfied: kiwisolver>=1.3.1 in c:\\users\\erik\\appdata\\local\\programs\\python\\python310\\lib\\site-packages (from matplotlib<4->mlflow) (1.4.5)\n",
      "Requirement already satisfied: pillow>=8 in c:\\users\\erik\\appdata\\local\\programs\\python\\python310\\lib\\site-packages (from matplotlib<4->mlflow) (10.1.0)\n",
      "Requirement already satisfied: pyparsing>=2.3.1 in c:\\users\\erik\\appdata\\local\\programs\\python\\python310\\lib\\site-packages (from matplotlib<4->mlflow) (3.1.1)\n",
      "Requirement already satisfied: python-dateutil>=2.7 in c:\\users\\erik\\appdata\\local\\programs\\python\\python310\\lib\\site-packages (from matplotlib<4->mlflow) (2.8.2)\n",
      "Requirement already satisfied: tzdata>=2022.1 in c:\\users\\erik\\appdata\\local\\programs\\python\\python310\\lib\\site-packages (from pandas<3->mlflow) (2023.3)\n",
      "Requirement already satisfied: six in c:\\users\\erik\\appdata\\local\\programs\\python\\python310\\lib\\site-packages (from querystring-parser<2->mlflow) (1.16.0)\n",
      "Requirement already satisfied: charset-normalizer<4,>=2 in c:\\users\\erik\\appdata\\local\\programs\\python\\python310\\lib\\site-packages (from requests<3,>=2.17.3->mlflow) (3.3.2)\n",
      "Requirement already satisfied: idna<4,>=2.5 in c:\\users\\erik\\appdata\\local\\programs\\python\\python310\\lib\\site-packages (from requests<3,>=2.17.3->mlflow) (3.6)\n",
      "Requirement already satisfied: certifi>=2017.4.17 in c:\\users\\erik\\appdata\\local\\programs\\python\\python310\\lib\\site-packages (from requests<3,>=2.17.3->mlflow) (2023.11.17)\n",
      "Requirement already satisfied: joblib>=1.1.1 in c:\\users\\erik\\appdata\\local\\programs\\python\\python310\\lib\\site-packages (from scikit-learn<2->mlflow) (1.3.2)\n",
      "Requirement already satisfied: threadpoolctl>=2.0.0 in c:\\users\\erik\\appdata\\local\\programs\\python\\python310\\lib\\site-packages (from scikit-learn<2->mlflow) (3.2.0)\n",
      "Collecting greenlet!=0.4.17 (from sqlalchemy<3,>=1.4.0->mlflow)\n",
      "  Downloading greenlet-3.0.3-cp310-cp310-win_amd64.whl.metadata (3.9 kB)\n",
      "Requirement already satisfied: smmap<6,>=3.0.1 in c:\\users\\erik\\appdata\\local\\programs\\python\\python310\\lib\\site-packages (from gitdb<5,>=4.0.1->gitpython<4,>=3.1.9->mlflow) (5.0.1)\n",
      "Downloading mlflow-2.11.3-py3-none-any.whl (19.7 MB)\n",
      "   ---------------------------------------- 0.0/19.7 MB ? eta -:--:--\n",
      "   ---------------------------------------- 0.0/19.7 MB 1.9 MB/s eta 0:00:11\n",
      "   ---------------------------------------- 0.1/19.7 MB 1.7 MB/s eta 0:00:12\n",
      "    --------------------------------------- 0.3/19.7 MB 2.3 MB/s eta 0:00:09\n",
      "   - -------------------------------------- 0.6/19.7 MB 3.3 MB/s eta 0:00:06\n",
      "   -- ------------------------------------- 1.1/19.7 MB 4.8 MB/s eta 0:00:04\n",
      "   --- ------------------------------------ 1.9/19.7 MB 6.6 MB/s eta 0:00:03\n",
      "   ---- ----------------------------------- 2.4/19.7 MB 7.2 MB/s eta 0:00:03\n",
      "   ------ --------------------------------- 3.1/19.7 MB 8.2 MB/s eta 0:00:03\n",
      "   ------- -------------------------------- 3.7/19.7 MB 8.8 MB/s eta 0:00:02\n",
      "   ------- -------------------------------- 3.8/19.7 MB 8.1 MB/s eta 0:00:02\n",
      "   ------- -------------------------------- 3.8/19.7 MB 7.7 MB/s eta 0:00:03\n",
      "   -------- ------------------------------- 4.0/19.7 MB 7.1 MB/s eta 0:00:03\n",
      "   -------- ------------------------------- 4.3/19.7 MB 7.0 MB/s eta 0:00:03\n",
      "   --------- ------------------------------ 4.5/19.7 MB 6.8 MB/s eta 0:00:03\n",
      "   --------- ------------------------------ 4.8/19.7 MB 6.8 MB/s eta 0:00:03\n",
      "   ---------- ----------------------------- 5.2/19.7 MB 6.9 MB/s eta 0:00:03\n",
      "   ----------- ---------------------------- 5.9/19.7 MB 7.4 MB/s eta 0:00:02\n",
      "   ------------- -------------------------- 6.6/19.7 MB 7.6 MB/s eta 0:00:02\n",
      "   -------------- ------------------------- 7.3/19.7 MB 8.2 MB/s eta 0:00:02\n",
      "   ---------------- ----------------------- 8.0/19.7 MB 8.6 MB/s eta 0:00:02\n",
      "   ----------------- ---------------------- 8.7/19.7 MB 8.7 MB/s eta 0:00:02\n",
      "   ------------------- -------------------- 9.4/19.7 MB 9.0 MB/s eta 0:00:02\n",
      "   -------------------- ------------------- 10.1/19.7 MB 9.4 MB/s eta 0:00:02\n",
      "   --------------------- ------------------ 10.8/19.7 MB 10.7 MB/s eta 0:00:01\n",
      "   ----------------------- ---------------- 11.5/19.7 MB 10.9 MB/s eta 0:00:01\n",
      "   ------------------------ --------------- 12.3/19.7 MB 11.1 MB/s eta 0:00:01\n",
      "   -------------------------- ------------- 13.0/19.7 MB 11.1 MB/s eta 0:00:01\n",
      "   --------------------------- ------------ 13.5/19.7 MB 11.1 MB/s eta 0:00:01\n",
      "   ---------------------------- ----------- 14.3/19.7 MB 13.4 MB/s eta 0:00:01\n",
      "   ------------------------------ --------- 15.0/19.7 MB 14.2 MB/s eta 0:00:01\n",
      "   ------------------------------- -------- 15.6/19.7 MB 14.2 MB/s eta 0:00:01\n",
      "   -------------------------------- ------- 16.0/19.7 MB 14.2 MB/s eta 0:00:01\n",
      "   ---------------------------------- ----- 16.8/19.7 MB 14.5 MB/s eta 0:00:01\n",
      "   ----------------------------------- ---- 17.5/19.7 MB 14.2 MB/s eta 0:00:01\n",
      "   ------------------------------------ --- 17.8/19.7 MB 13.9 MB/s eta 0:00:01\n",
      "   ------------------------------------- -- 18.5/19.7 MB 13.6 MB/s eta 0:00:01\n",
      "   -------------------------------------- - 19.0/19.7 MB 13.4 MB/s eta 0:00:01\n",
      "   ---------------------------------------  19.7/19.7 MB 13.6 MB/s eta 0:00:01\n",
      "   ---------------------------------------- 19.7/19.7 MB 13.1 MB/s eta 0:00:00\n",
      "Downloading alembic-1.13.1-py3-none-any.whl (233 kB)\n",
      "   ---------------------------------------- 0.0/233.4 kB ? eta -:--:--\n",
      "   --------------------------------------- 233.4/233.4 kB 13.9 MB/s eta 0:00:00\n",
      "Downloading cloudpickle-3.0.0-py3-none-any.whl (20 kB)\n",
      "Downloading docker-7.0.0-py3-none-any.whl (147 kB)\n",
      "   ---------------------------------------- 0.0/147.6 kB ? eta -:--:--\n",
      "   ---------------------------------------- 147.6/147.6 kB 9.2 MB/s eta 0:00:00\n",
      "Downloading entrypoints-0.4-py3-none-any.whl (5.3 kB)\n",
      "Downloading graphene-3.3-py2.py3-none-any.whl (128 kB)\n",
      "   ---------------------------------------- 0.0/128.2 kB ? eta -:--:--\n",
      "   ---------------------------------------- 128.2/128.2 kB ? eta 0:00:00\n",
      "Downloading querystring_parser-1.2.4-py2.py3-none-any.whl (7.9 kB)\n",
      "Downloading SQLAlchemy-2.0.29-cp310-cp310-win_amd64.whl (2.1 MB)\n",
      "   ---------------------------------------- 0.0/2.1 MB ? eta -:--:--\n",
      "   ---------------- ----------------------- 0.9/2.1 MB 18.5 MB/s eta 0:00:01\n",
      "   --------------------------------- ------ 1.7/2.1 MB 18.4 MB/s eta 0:00:01\n",
      "   ---------------------------------------- 2.1/2.1 MB 16.5 MB/s eta 0:00:00\n",
      "Downloading sqlparse-0.4.4-py3-none-any.whl (41 kB)\n",
      "   ---------------------------------------- 0.0/41.2 kB ? eta -:--:--\n",
      "   ---------------------------------------- 41.2/41.2 kB ? eta 0:00:00\n",
      "Downloading waitress-3.0.0-py3-none-any.whl (56 kB)\n",
      "   ---------------------------------------- 0.0/56.7 kB ? eta -:--:--\n",
      "   ---------------------------------------- 56.7/56.7 kB 2.9 MB/s eta 0:00:00\n",
      "Downloading aniso8601-9.0.1-py2.py3-none-any.whl (52 kB)\n",
      "   ---------------------------------------- 0.0/52.8 kB ? eta -:--:--\n",
      "   ---------------------------------------- 52.8/52.8 kB ? eta 0:00:00\n",
      "Downloading graphql_core-3.2.3-py3-none-any.whl (202 kB)\n",
      "   ---------------------------------------- 0.0/202.9 kB ? eta -:--:--\n",
      "   --------------------------------------- 202.9/202.9 kB 12.0 MB/s eta 0:00:00\n",
      "Downloading graphql_relay-3.2.0-py3-none-any.whl (16 kB)\n",
      "Downloading greenlet-3.0.3-cp310-cp310-win_amd64.whl (292 kB)\n",
      "   ---------------------------------------- 0.0/292.3 kB ? eta -:--:--\n",
      "   ---------------------------------------- 292.3/292.3 kB 8.8 MB/s eta 0:00:00\n",
      "Downloading Mako-1.3.2-py3-none-any.whl (78 kB)\n",
      "   ---------------------------------------- 0.0/78.7 kB ? eta -:--:--\n",
      "   ---------------------------------------- 78.7/78.7 kB ? eta 0:00:00\n",
      "Installing collected packages: aniso8601, waitress, sqlparse, querystring-parser, Mako, greenlet, graphql-core, entrypoints, cloudpickle, sqlalchemy, graphql-relay, docker, graphene, alembic, mlflow\n",
      "Successfully installed Mako-1.3.2 alembic-1.13.1 aniso8601-9.0.1 cloudpickle-3.0.0 docker-7.0.0 entrypoints-0.4 graphene-3.3 graphql-core-3.2.3 graphql-relay-3.2.0 greenlet-3.0.3 mlflow-2.11.3 querystring-parser-1.2.4 sqlalchemy-2.0.29 sqlparse-0.4.4 waitress-3.0.0\n",
      "Note: you may need to restart the kernel to use updated packages.\n"
     ]
    },
    {
     "name": "stderr",
     "output_type": "stream",
     "text": [
      "\n",
      "[notice] A new release of pip is available: 23.3.1 -> 24.0\n",
      "[notice] To update, run: python.exe -m pip install --upgrade pip\n"
     ]
    }
   ],
   "source": [
    "pip install mlflow"
   ]
  },
  {
   "cell_type": "code",
   "execution_count": 1,
   "id": "1891be0a-a7a1-405d-b40a-6178d78ce77c",
   "metadata": {},
   "outputs": [],
   "source": [
    "import cv2"
   ]
  },
  {
   "cell_type": "code",
   "execution_count": 3,
   "id": "f118414b-beb4-4ff2-b8da-cb7f7f227f9c",
   "metadata": {},
   "outputs": [],
   "source": [
    "img = cv2.imread(r\"C:\\Users\\Erik\\Pictures\\edit_pic_1.jpg\")"
   ]
  },
  {
   "cell_type": "code",
   "execution_count": 6,
   "id": "79ff6932-54cb-41ec-9378-e69e8f127e5f",
   "metadata": {},
   "outputs": [],
   "source": [
    "avg_blur = cv2.blur(img,(3,3))\n",
    "avg_blur1 = cv2.blur(img,(5,5))\n",
    "avg_blur2 = cv2.blur(img,(7,7))"
   ]
  },
  {
   "cell_type": "code",
   "execution_count": 7,
   "id": "016099c7-2125-4457-9e76-561e693e5d3a",
   "metadata": {},
   "outputs": [],
   "source": [
    "cv2.imshow(\"or\", img)\n",
    "cv2.imshow(\"blr\", avg_blur)\n",
    "cv2.imshow(\"blr1\", avg_blur1)\n",
    "cv2.imshow(\"blr2\", avg_blur2)\n",
    "cv2.waitKey(0)\n",
    "cv2.destroyAllWindows()"
   ]
  },
  {
   "cell_type": "code",
   "execution_count": 9,
   "id": "69eecbc2-457d-4938-993c-496a588d85b3",
   "metadata": {},
   "outputs": [],
   "source": [
    "g_blr= cv2.GaussianBlur(img,(7,7),0)"
   ]
  },
  {
   "cell_type": "code",
   "execution_count": 14,
   "id": "e79e4669-f266-476d-b6d6-f032f6bb9bc0",
   "metadata": {},
   "outputs": [],
   "source": [
    "\n",
    "g_blr= cv2.GaussianBlur(img,(7,7),0)\n",
    "bi_b= cv2.bilateralFilter(img, 15, 75,75)\n",
    "cv2.imshow(\"or\", img)\n",
    "cv2.imshow(\"or\", g_blr)\n",
    "cv2.imshow(\"or\", bi_b)\n",
    "cv2.waitKey(0)\n",
    "cv2.destroyAllWindows()"
   ]
  },
  {
   "cell_type": "code",
   "execution_count": 16,
   "id": "390671fb-466f-4f68-a2c3-4ef6ea959fad",
   "metadata": {},
   "outputs": [],
   "source": [
    "import numpy as np\n",
    "\n",
    "filter = np.array([[-1,-1,-1,],[-1,8,-1],[-1,-1,-1]], dtype=np.float32)"
   ]
  },
  {
   "cell_type": "markdown",
   "id": "18481723-9a27-4500-86a3-e2fbad04ed84",
   "metadata": {},
   "source": [
    "cv2.waitKey(0)\n",
    "cv2.destroyAllWindows()"
   ]
  }
 ],
 "metadata": {
  "kernelspec": {
   "display_name": "Python 3 (ipykernel)",
   "language": "python",
   "name": "python3"
  },
  "language_info": {
   "codemirror_mode": {
    "name": "ipython",
    "version": 3
   },
   "file_extension": ".py",
   "mimetype": "text/x-python",
   "name": "python",
   "nbconvert_exporter": "python",
   "pygments_lexer": "ipython3",
   "version": "3.10.2"
  }
 },
 "nbformat": 4,
 "nbformat_minor": 5
}
